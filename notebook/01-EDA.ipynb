{
 "cells": [
  {
   "cell_type": "markdown",
   "metadata": {},
   "source": [
    "AutoRenew, es un conjunto de datos que contiene información detallada sobre diversas características de coches usados en venta. El objetivo es desarrollar un modelo predictivo que estime el precio de los vehículos usados. \n",
    "\n",
    "En este notebook realizaremos un análisis exploratorio de los datos (EDA) y gestionar los valores nulos o sin sentido que encontremos."
   ]
  },
  {
   "cell_type": "code",
   "execution_count": 107,
   "metadata": {},
   "outputs": [],
   "source": [
    "# Tratamiento de datos\n",
    "# -----------------------------------------------------------------------\n",
    "import numpy as np\n",
    "import pandas as pd\n",
    "\n",
    "# Otros objetivos\n",
    "# -----------------------------------------------------------------------\n",
    "import math\n",
    "\n",
    "# Gráficos\n",
    "# -----------------------------------------------------------------------\n",
    "import seaborn as sns\n",
    "import matplotlib.pyplot as plt\n",
    "\n",
    "# Path configuration for custom module imports\n",
    "# -----------------------------------------------------------------------\n",
    "import sys\n",
    "sys.path.append('../')  # Adds the parent directory to the path for custom module imports\n",
    "\n",
    "\n",
    "# Ignorar warings\n",
    "# -----------------------------------------------------------------------\n",
    "import warnings\n",
    "warnings.filterwarnings(\"ignore\")\n",
    "\n",
    "from src.support_eda import distribution, count_plot"
   ]
  },
  {
   "cell_type": "code",
   "execution_count": 108,
   "metadata": {},
   "outputs": [],
   "source": [
    "df = pd.read_csv('../data/raw/autorenew.csv')"
   ]
  },
  {
   "cell_type": "code",
   "execution_count": 109,
   "metadata": {},
   "outputs": [
    {
     "data": {
      "text/html": [
       "<div>\n",
       "<style scoped>\n",
       "    .dataframe tbody tr th:only-of-type {\n",
       "        vertical-align: middle;\n",
       "    }\n",
       "\n",
       "    .dataframe tbody tr th {\n",
       "        vertical-align: top;\n",
       "    }\n",
       "\n",
       "    .dataframe thead th {\n",
       "        text-align: right;\n",
       "    }\n",
       "</style>\n",
       "<table border=\"1\" class=\"dataframe\">\n",
       "  <thead>\n",
       "    <tr style=\"text-align: right;\">\n",
       "      <th></th>\n",
       "      <th>dateCrawled</th>\n",
       "      <th>name</th>\n",
       "      <th>seller</th>\n",
       "      <th>offerType</th>\n",
       "      <th>price</th>\n",
       "      <th>abtest</th>\n",
       "      <th>vehicleType</th>\n",
       "      <th>yearOfRegistration</th>\n",
       "      <th>gearbox</th>\n",
       "      <th>powerCV</th>\n",
       "      <th>model</th>\n",
       "      <th>kilometer</th>\n",
       "      <th>monthOfRegistration</th>\n",
       "      <th>fuelType</th>\n",
       "      <th>brand</th>\n",
       "      <th>notRepairedDamage</th>\n",
       "      <th>dateCreated</th>\n",
       "      <th>nrOfPictures</th>\n",
       "      <th>postalCode</th>\n",
       "      <th>lastSeen</th>\n",
       "    </tr>\n",
       "  </thead>\n",
       "  <tbody>\n",
       "    <tr>\n",
       "      <th>0</th>\n",
       "      <td>2016-03-24 11:52:17</td>\n",
       "      <td>Golf_3_1.6</td>\n",
       "      <td>private</td>\n",
       "      <td>offer</td>\n",
       "      <td>480</td>\n",
       "      <td>test</td>\n",
       "      <td>NaN</td>\n",
       "      <td>1993</td>\n",
       "      <td>manually</td>\n",
       "      <td>0.0</td>\n",
       "      <td>golf</td>\n",
       "      <td>150000</td>\n",
       "      <td>0</td>\n",
       "      <td>petrol</td>\n",
       "      <td>volkswagen</td>\n",
       "      <td>NaN</td>\n",
       "      <td>2016-03-24 00:00:00</td>\n",
       "      <td>0</td>\n",
       "      <td>70435</td>\n",
       "      <td>2016-04-07 03:16:57</td>\n",
       "    </tr>\n",
       "    <tr>\n",
       "      <th>1</th>\n",
       "      <td>2016-03-24 10:58:45</td>\n",
       "      <td>A5_Sportback_2.7_Tdi</td>\n",
       "      <td>private</td>\n",
       "      <td>offer</td>\n",
       "      <td>18300</td>\n",
       "      <td>test</td>\n",
       "      <td>coupe</td>\n",
       "      <td>2011</td>\n",
       "      <td>manually</td>\n",
       "      <td>187.0</td>\n",
       "      <td>NaN</td>\n",
       "      <td>125000</td>\n",
       "      <td>5</td>\n",
       "      <td>diesel</td>\n",
       "      <td>audi</td>\n",
       "      <td>yes</td>\n",
       "      <td>2016-03-24 00:00:00</td>\n",
       "      <td>0</td>\n",
       "      <td>66954</td>\n",
       "      <td>2016-04-07 01:46:50</td>\n",
       "    </tr>\n",
       "    <tr>\n",
       "      <th>2</th>\n",
       "      <td>2016-03-14 12:52:21</td>\n",
       "      <td>Jeep_Grand_Cherokee_\"Overland\"</td>\n",
       "      <td>private</td>\n",
       "      <td>offer</td>\n",
       "      <td>9800</td>\n",
       "      <td>test</td>\n",
       "      <td>suv</td>\n",
       "      <td>2004</td>\n",
       "      <td>automatic</td>\n",
       "      <td>161.0</td>\n",
       "      <td>grand</td>\n",
       "      <td>125000</td>\n",
       "      <td>8</td>\n",
       "      <td>diesel</td>\n",
       "      <td>jeep</td>\n",
       "      <td>NaN</td>\n",
       "      <td>2016-03-14 00:00:00</td>\n",
       "      <td>0</td>\n",
       "      <td>90480</td>\n",
       "      <td>2016-04-05 12:47:46</td>\n",
       "    </tr>\n",
       "    <tr>\n",
       "      <th>3</th>\n",
       "      <td>2016-03-17 16:54:04</td>\n",
       "      <td>GOLF_4_1_4__3TÜRER</td>\n",
       "      <td>private</td>\n",
       "      <td>offer</td>\n",
       "      <td>1500</td>\n",
       "      <td>test</td>\n",
       "      <td>small car</td>\n",
       "      <td>2001</td>\n",
       "      <td>manually</td>\n",
       "      <td>74.0</td>\n",
       "      <td>golf</td>\n",
       "      <td>150000</td>\n",
       "      <td>6</td>\n",
       "      <td>petrol</td>\n",
       "      <td>volkswagen</td>\n",
       "      <td>no</td>\n",
       "      <td>2016-03-17 00:00:00</td>\n",
       "      <td>0</td>\n",
       "      <td>91074</td>\n",
       "      <td>2016-03-17 17:40:17</td>\n",
       "    </tr>\n",
       "    <tr>\n",
       "      <th>4</th>\n",
       "      <td>2016-03-31 17:25:20</td>\n",
       "      <td>Skoda_Fabia_1.4_TDI_PD_Classic</td>\n",
       "      <td>private</td>\n",
       "      <td>offer</td>\n",
       "      <td>3600</td>\n",
       "      <td>test</td>\n",
       "      <td>small car</td>\n",
       "      <td>2008</td>\n",
       "      <td>manually</td>\n",
       "      <td>68.0</td>\n",
       "      <td>fabia</td>\n",
       "      <td>90000</td>\n",
       "      <td>7</td>\n",
       "      <td>diesel</td>\n",
       "      <td>skoda</td>\n",
       "      <td>no</td>\n",
       "      <td>2016-03-31 00:00:00</td>\n",
       "      <td>0</td>\n",
       "      <td>60437</td>\n",
       "      <td>2016-04-06 10:17:21</td>\n",
       "    </tr>\n",
       "  </tbody>\n",
       "</table>\n",
       "</div>"
      ],
      "text/plain": [
       "           dateCrawled                            name   seller offerType  \\\n",
       "0  2016-03-24 11:52:17                      Golf_3_1.6  private     offer   \n",
       "1  2016-03-24 10:58:45            A5_Sportback_2.7_Tdi  private     offer   \n",
       "2  2016-03-14 12:52:21  Jeep_Grand_Cherokee_\"Overland\"  private     offer   \n",
       "3  2016-03-17 16:54:04              GOLF_4_1_4__3TÜRER  private     offer   \n",
       "4  2016-03-31 17:25:20  Skoda_Fabia_1.4_TDI_PD_Classic  private     offer   \n",
       "\n",
       "   price abtest vehicleType  yearOfRegistration    gearbox  powerCV  model  \\\n",
       "0    480   test         NaN                1993   manually      0.0   golf   \n",
       "1  18300   test       coupe                2011   manually    187.0    NaN   \n",
       "2   9800   test         suv                2004  automatic    161.0  grand   \n",
       "3   1500   test   small car                2001   manually     74.0   golf   \n",
       "4   3600   test   small car                2008   manually     68.0  fabia   \n",
       "\n",
       "   kilometer  monthOfRegistration fuelType       brand notRepairedDamage  \\\n",
       "0     150000                    0   petrol  volkswagen               NaN   \n",
       "1     125000                    5   diesel        audi               yes   \n",
       "2     125000                    8   diesel        jeep               NaN   \n",
       "3     150000                    6   petrol  volkswagen                no   \n",
       "4      90000                    7   diesel       skoda                no   \n",
       "\n",
       "           dateCreated  nrOfPictures  postalCode             lastSeen  \n",
       "0  2016-03-24 00:00:00             0       70435  2016-04-07 03:16:57  \n",
       "1  2016-03-24 00:00:00             0       66954  2016-04-07 01:46:50  \n",
       "2  2016-03-14 00:00:00             0       90480  2016-04-05 12:47:46  \n",
       "3  2016-03-17 00:00:00             0       91074  2016-03-17 17:40:17  \n",
       "4  2016-03-31 00:00:00             0       60437  2016-04-06 10:17:21  "
      ]
     },
     "execution_count": 109,
     "metadata": {},
     "output_type": "execute_result"
    }
   ],
   "source": [
    "df.head()"
   ]
  },
  {
   "cell_type": "markdown",
   "metadata": {},
   "source": [
    "**Dataset columns:**\n",
    "\n",
    "- **dateCrawled**: Date and time when the car data was collected.\n",
    "\n",
    "- **name**: Ad name, usually includes the car's make and model.\n",
    "\n",
    "- **seller**: Type of seller (private or dealer).\n",
    "\n",
    "- **offerType**: Type of offer (sale or auction).\n",
    "\n",
    "- **price**: Car price in the local currency (likely euro or dollar).\n",
    "\n",
    "- **abtest**: Field used for A/B testing, indicating different versions of the website or ad.\n",
    "\n",
    "- **vehicleType**: Type of vehicle (sedan, SUV, hatchback, etc.).\n",
    "\n",
    "- **yearOfRegistration**: Year the car was registered.\n",
    "\n",
    "- **gearbox**: Type of transmission (manual or automatic).\n",
    "\n",
    "- **powerCV**: Car's power in horsepower (HP).\n",
    "\n",
    "- **model**: Specific car model.\n",
    "\n",
    "- **kilometer**: Total mileage of the car.\n",
    "\n",
    "- **monthOfRegistration**: Month the car was registered.\n",
    "\n",
    "- **fuelType**: Type of fuel (gasoline, diesel, electric, etc.).\n",
    "\n",
    "- **brand**: Car make.\n",
    "\n",
    "- **notRepairedDamage**: Indicates if the car has unrepaired damage.\n",
    "\n",
    "- **dateCreated**: Date the ad was created.\n",
    "\n",
    "- **nrOfPictures**: Number of photos in the ad.\n",
    "\n",
    "- **postalCode**: Postal code of the car's location.\n",
    "\n",
    "- **lastSeen**: Last date and time the ad was viewed."
   ]
  },
  {
   "cell_type": "markdown",
   "metadata": {},
   "source": [
    "---"
   ]
  },
  {
   "cell_type": "markdown",
   "metadata": {},
   "source": [
    "## Dates\n",
    "\n",
    "First, we convert the dates to the `datetime` format to work with them."
   ]
  },
  {
   "cell_type": "code",
   "execution_count": 110,
   "metadata": {},
   "outputs": [],
   "source": [
    "df['dateCrawled'] = pd.to_datetime(df['dateCrawled'])\n",
    "df['dateCreated'] = pd.to_datetime(df['dateCreated'])\n",
    "df['lastSeen'] = pd.to_datetime(df['lastSeen'])"
   ]
  },
  {
   "cell_type": "markdown",
   "metadata": {},
   "source": [
    "Let's check the unique values of the years to see the time range we are dealing with."
   ]
  },
  {
   "cell_type": "code",
   "execution_count": 111,
   "metadata": {},
   "outputs": [
    {
     "name": "stdout",
     "output_type": "stream",
     "text": [
      "Unique year values for dateCrawled: [2016]\n",
      "Unique year values for dateCreated: [2016, 2015, 2014]\n",
      "Unique year values for lastSeen: [2016]\n"
     ]
    }
   ],
   "source": [
    "dates = ['dateCrawled', 'dateCreated', 'lastSeen']\n",
    "\n",
    "for date in dates:\n",
    "    print(f\"Unique year values for {date}: {df[date].dt.year.unique().tolist()}\")"
   ]
  },
  {
   "cell_type": "markdown",
   "metadata": {},
   "source": [
    "We see that the data was extracted exclusively in 2016, while the ads are only from 2014 to 2016. Therefore, we will simply assume that the newest vehicles can only be from 2016, instead of the current year. Beyond that, these columns do not provide additional value, so we will remove them."
   ]
  },
  {
   "cell_type": "code",
   "execution_count": 112,
   "metadata": {},
   "outputs": [],
   "source": [
    "df.drop(columns=['dateCrawled', 'dateCreated', 'lastSeen'], inplace=True)"
   ]
  },
  {
   "cell_type": "markdown",
   "metadata": {},
   "source": [
    "---"
   ]
  },
  {
   "cell_type": "markdown",
   "metadata": {},
   "source": [
    "## Check duplicated"
   ]
  },
  {
   "cell_type": "markdown",
   "metadata": {},
   "source": [
    "Comprobamos los duplicados ahroa que hemos eliminado las fechas ya que es posible que el mismo vehículo haya sido registrado varias veces en fechas distintas"
   ]
  },
  {
   "cell_type": "code",
   "execution_count": 113,
   "metadata": {},
   "outputs": [
    {
     "data": {
      "text/plain": [
       "4380"
      ]
     },
     "execution_count": 113,
     "metadata": {},
     "output_type": "execute_result"
    }
   ],
   "source": [
    "df.duplicated().sum()"
   ]
  },
  {
   "cell_type": "markdown",
   "metadata": {},
   "source": [
    "Efectivamente había duplicados por lo que vamos a eliminarlos"
   ]
  },
  {
   "cell_type": "code",
   "execution_count": 114,
   "metadata": {},
   "outputs": [],
   "source": [
    "df.drop_duplicates(inplace=True)"
   ]
  },
  {
   "cell_type": "code",
   "execution_count": 115,
   "metadata": {},
   "outputs": [
    {
     "data": {
      "text/plain": [
       "0"
      ]
     },
     "execution_count": 115,
     "metadata": {},
     "output_type": "execute_result"
    }
   ],
   "source": [
    "df.duplicated().sum()"
   ]
  },
  {
   "cell_type": "markdown",
   "metadata": {},
   "source": [
    "---"
   ]
  },
  {
   "cell_type": "markdown",
   "metadata": {},
   "source": [
    "## Numeric data"
   ]
  },
  {
   "cell_type": "code",
   "execution_count": 116,
   "metadata": {},
   "outputs": [
    {
     "data": {
      "text/html": [
       "<div>\n",
       "<style scoped>\n",
       "    .dataframe tbody tr th:only-of-type {\n",
       "        vertical-align: middle;\n",
       "    }\n",
       "\n",
       "    .dataframe tbody tr th {\n",
       "        vertical-align: top;\n",
       "    }\n",
       "\n",
       "    .dataframe thead th {\n",
       "        text-align: right;\n",
       "    }\n",
       "</style>\n",
       "<table border=\"1\" class=\"dataframe\">\n",
       "  <thead>\n",
       "    <tr style=\"text-align: right;\">\n",
       "      <th></th>\n",
       "      <th>count</th>\n",
       "      <th>mean</th>\n",
       "      <th>std</th>\n",
       "      <th>min</th>\n",
       "      <th>25%</th>\n",
       "      <th>50%</th>\n",
       "      <th>75%</th>\n",
       "      <th>max</th>\n",
       "    </tr>\n",
       "  </thead>\n",
       "  <tbody>\n",
       "    <tr>\n",
       "      <th>price</th>\n",
       "      <td>367148.0</td>\n",
       "      <td>17427.03</td>\n",
       "      <td>3609291.84</td>\n",
       "      <td>0.0</td>\n",
       "      <td>1150.0</td>\n",
       "      <td>2950.0</td>\n",
       "      <td>7150.0</td>\n",
       "      <td>2.147484e+09</td>\n",
       "    </tr>\n",
       "    <tr>\n",
       "      <th>yearOfRegistration</th>\n",
       "      <td>367148.0</td>\n",
       "      <td>2004.58</td>\n",
       "      <td>93.42</td>\n",
       "      <td>1000.0</td>\n",
       "      <td>1999.0</td>\n",
       "      <td>2003.0</td>\n",
       "      <td>2008.0</td>\n",
       "      <td>9.999000e+03</td>\n",
       "    </tr>\n",
       "    <tr>\n",
       "      <th>powerCV</th>\n",
       "      <td>367148.0</td>\n",
       "      <td>113.89</td>\n",
       "      <td>190.47</td>\n",
       "      <td>0.0</td>\n",
       "      <td>69.0</td>\n",
       "      <td>104.0</td>\n",
       "      <td>148.0</td>\n",
       "      <td>1.972600e+04</td>\n",
       "    </tr>\n",
       "    <tr>\n",
       "      <th>kilometer</th>\n",
       "      <td>367148.0</td>\n",
       "      <td>125700.64</td>\n",
       "      <td>40075.02</td>\n",
       "      <td>5000.0</td>\n",
       "      <td>125000.0</td>\n",
       "      <td>150000.0</td>\n",
       "      <td>150000.0</td>\n",
       "      <td>1.500000e+05</td>\n",
       "    </tr>\n",
       "    <tr>\n",
       "      <th>monthOfRegistration</th>\n",
       "      <td>367148.0</td>\n",
       "      <td>5.73</td>\n",
       "      <td>3.71</td>\n",
       "      <td>0.0</td>\n",
       "      <td>3.0</td>\n",
       "      <td>6.0</td>\n",
       "      <td>9.0</td>\n",
       "      <td>1.200000e+01</td>\n",
       "    </tr>\n",
       "    <tr>\n",
       "      <th>nrOfPictures</th>\n",
       "      <td>367148.0</td>\n",
       "      <td>0.00</td>\n",
       "      <td>0.00</td>\n",
       "      <td>0.0</td>\n",
       "      <td>0.0</td>\n",
       "      <td>0.0</td>\n",
       "      <td>0.0</td>\n",
       "      <td>0.000000e+00</td>\n",
       "    </tr>\n",
       "    <tr>\n",
       "      <th>postalCode</th>\n",
       "      <td>367148.0</td>\n",
       "      <td>50919.29</td>\n",
       "      <td>25771.17</td>\n",
       "      <td>1067.0</td>\n",
       "      <td>30629.0</td>\n",
       "      <td>49661.0</td>\n",
       "      <td>71638.0</td>\n",
       "      <td>9.999800e+04</td>\n",
       "    </tr>\n",
       "  </tbody>\n",
       "</table>\n",
       "</div>"
      ],
      "text/plain": [
       "                        count       mean         std     min       25%  \\\n",
       "price                367148.0   17427.03  3609291.84     0.0    1150.0   \n",
       "yearOfRegistration   367148.0    2004.58       93.42  1000.0    1999.0   \n",
       "powerCV              367148.0     113.89      190.47     0.0      69.0   \n",
       "kilometer            367148.0  125700.64    40075.02  5000.0  125000.0   \n",
       "monthOfRegistration  367148.0       5.73        3.71     0.0       3.0   \n",
       "nrOfPictures         367148.0       0.00        0.00     0.0       0.0   \n",
       "postalCode           367148.0   50919.29    25771.17  1067.0   30629.0   \n",
       "\n",
       "                          50%       75%           max  \n",
       "price                  2950.0    7150.0  2.147484e+09  \n",
       "yearOfRegistration     2003.0    2008.0  9.999000e+03  \n",
       "powerCV                 104.0     148.0  1.972600e+04  \n",
       "kilometer            150000.0  150000.0  1.500000e+05  \n",
       "monthOfRegistration       6.0       9.0  1.200000e+01  \n",
       "nrOfPictures              0.0       0.0  0.000000e+00  \n",
       "postalCode            49661.0   71638.0  9.999800e+04  "
      ]
     },
     "execution_count": 116,
     "metadata": {},
     "output_type": "execute_result"
    }
   ],
   "source": [
    "df.describe().T.round(2)"
   ]
  },
  {
   "cell_type": "markdown",
   "metadata": {},
   "source": [
    "**Quick Insights:**\n",
    "\n",
    "- **`price`**: The minimum price is 0, which is odd since a free car doesn’t make sense. Additionally, the mean is much higher than the median, which could indicate numerous outliers, possibly luxury vehicles. However, the maximum price reaches an order of magnitude of 1e9 (a billion), which is clearly impossible and likely due to errors.\n",
    "\n",
    "- **`yearOfRegistration`**: The minimum value is 1000, which is illogical as cars didn’t exist before 1900 (and vehicles that old are rarely sold). Additionally, there are values like 9999, which are likely errors in data entry.\n",
    "\n",
    "- **`powerCV`**: A minimum of 0 is unlikely, and a maximum of 19,700 HP is unrealistic, given that even the most powerful race cars rarely exceed 1,000 HP. The rest of the values seem reasonable, with most falling within the typical range of 50 to 150 HP.\n",
    "\n",
    "- **`kilometer`**: These values seem reasonable. Additionally, the mean and median are similar, suggesting a more uniform distribution.\n",
    "\n",
    "- **`monthOfRegistration`**: This variable is truly categorical. The minimum value, 0, is impossible, but values between 1 and 12 are logical and consistent.\n",
    "\n",
    "- **`nrOfPictures`**: All entries have a value of 0. We drop it.\n",
    "\n",
    "- **`PostalCode`**: This variable corresponds to postal codes and could be treated as categorical. However, there is no information about the country they belong to or a way to determine it, which limits its usefulness for analysis. From the name of some entries, we suspect it might be Germany, but there’s no way to confirm it. For this reason, we will decide to remove it."
   ]
  },
  {
   "cell_type": "code",
   "execution_count": 117,
   "metadata": {},
   "outputs": [],
   "source": [
    "# Drops\n",
    "df.drop(columns=['postalCode', 'nrOfPictures'], inplace=True)"
   ]
  },
  {
   "cell_type": "markdown",
   "metadata": {},
   "source": [
    "---"
   ]
  },
  {
   "cell_type": "markdown",
   "metadata": {},
   "source": [
    "### `price`"
   ]
  },
  {
   "cell_type": "code",
   "execution_count": 118,
   "metadata": {},
   "outputs": [
    {
     "data": {
      "text/plain": [
       "price\n",
       "False    367148\n",
       "Name: count, dtype: int64"
      ]
     },
     "execution_count": 118,
     "metadata": {},
     "output_type": "execute_result"
    }
   ],
   "source": [
    "df['price'].isna().value_counts()"
   ]
  },
  {
   "cell_type": "markdown",
   "metadata": {},
   "source": [
    "Como la variable que queremos predecir (variable respuesta) es el precio debemos asegurarnos de que no hay valores nulos, y los que hubiere los eliminaremos.\n",
    "\n",
    "Vemos que no hay valores nulos, aunque vamos a filtrar directamente por precios que tengan sentido."
   ]
  },
  {
   "cell_type": "markdown",
   "metadata": {},
   "source": [
    "Los precios de vehículos excesivamente bajos no tienen sentido. Es difícil establecer un criterio para filtrar ya que vehículos muy antiguos o con daños pueden tener un precio real bajo. "
   ]
  },
  {
   "cell_type": "code",
   "execution_count": 119,
   "metadata": {},
   "outputs": [
    {
     "data": {
      "text/plain": [
       "3.57"
      ]
     },
     "execution_count": 119,
     "metadata": {},
     "output_type": "execute_result"
    }
   ],
   "source": [
    "round(df[df['price'] < 100].shape[0] / df.shape[0] * 100, 2)"
   ]
  },
  {
   "cell_type": "markdown",
   "metadata": {},
   "source": [
    "Los datos con un precio menor a 100 es muy probable que sean erróneos y suponen en torno a un 3.6% del dataset por lo que parece razonable eliminarlos. \n",
    "Es posible que existan vehículos que realmente tengan un precios inferior a 100 debido a daños sin reparar o antigüedad, pero es difícil establecer este criterio, por lo que continuaremos de esta forma."
   ]
  },
  {
   "cell_type": "markdown",
   "metadata": {},
   "source": [
    "Tras echar un vistazo a los datos, podemos concluir que todos los precios mayores de 4 millones se corresponden con entradas erróneas"
   ]
  },
  {
   "cell_type": "code",
   "execution_count": 120,
   "metadata": {},
   "outputs": [
    {
     "name": "stdout",
     "output_type": "stream",
     "text": [
      "We have a total of 52 entries with a price greater than 4 M\n"
     ]
    },
    {
     "data": {
      "text/html": [
       "<div>\n",
       "<style scoped>\n",
       "    .dataframe tbody tr th:only-of-type {\n",
       "        vertical-align: middle;\n",
       "    }\n",
       "\n",
       "    .dataframe tbody tr th {\n",
       "        vertical-align: top;\n",
       "    }\n",
       "\n",
       "    .dataframe thead th {\n",
       "        text-align: right;\n",
       "    }\n",
       "</style>\n",
       "<table border=\"1\" class=\"dataframe\">\n",
       "  <thead>\n",
       "    <tr style=\"text-align: right;\">\n",
       "      <th></th>\n",
       "      <th>name</th>\n",
       "      <th>seller</th>\n",
       "      <th>offerType</th>\n",
       "      <th>price</th>\n",
       "      <th>abtest</th>\n",
       "      <th>vehicleType</th>\n",
       "      <th>yearOfRegistration</th>\n",
       "      <th>gearbox</th>\n",
       "      <th>powerCV</th>\n",
       "      <th>model</th>\n",
       "      <th>kilometer</th>\n",
       "      <th>monthOfRegistration</th>\n",
       "      <th>fuelType</th>\n",
       "      <th>brand</th>\n",
       "      <th>notRepairedDamage</th>\n",
       "    </tr>\n",
       "  </thead>\n",
       "  <tbody>\n",
       "    <tr>\n",
       "      <th>14663</th>\n",
       "      <td>Tausch_moeglich_Polo_vw_n9</td>\n",
       "      <td>private</td>\n",
       "      <td>offer</td>\n",
       "      <td>11111111</td>\n",
       "      <td>control</td>\n",
       "      <td>coupe</td>\n",
       "      <td>2003</td>\n",
       "      <td>manually</td>\n",
       "      <td>63.0</td>\n",
       "      <td>polo</td>\n",
       "      <td>150000</td>\n",
       "      <td>2</td>\n",
       "      <td>petrol</td>\n",
       "      <td>volkswagen</td>\n",
       "      <td>NaN</td>\n",
       "    </tr>\n",
       "    <tr>\n",
       "      <th>20746</th>\n",
       "      <td>Golf3_Schlachtfest</td>\n",
       "      <td>private</td>\n",
       "      <td>offer</td>\n",
       "      <td>12345678</td>\n",
       "      <td>test</td>\n",
       "      <td>NaN</td>\n",
       "      <td>1995</td>\n",
       "      <td>NaN</td>\n",
       "      <td>0.0</td>\n",
       "      <td>NaN</td>\n",
       "      <td>150000</td>\n",
       "      <td>0</td>\n",
       "      <td>NaN</td>\n",
       "      <td>volkswagen</td>\n",
       "      <td>NaN</td>\n",
       "    </tr>\n",
       "    <tr>\n",
       "      <th>21467</th>\n",
       "      <td>Porsche_911_911R_1_of_20_ORIGINAL_R_nur_798KG!...</td>\n",
       "      <td>private</td>\n",
       "      <td>offer</td>\n",
       "      <td>9999999</td>\n",
       "      <td>control</td>\n",
       "      <td>coupe</td>\n",
       "      <td>1967</td>\n",
       "      <td>manually</td>\n",
       "      <td>212.0</td>\n",
       "      <td>911</td>\n",
       "      <td>50000</td>\n",
       "      <td>10</td>\n",
       "      <td>petrol</td>\n",
       "      <td>porsche</td>\n",
       "      <td>no</td>\n",
       "    </tr>\n",
       "    <tr>\n",
       "      <th>39625</th>\n",
       "      <td>Tausche_volvo_v40_gegen_van</td>\n",
       "      <td>private</td>\n",
       "      <td>offer</td>\n",
       "      <td>12345678</td>\n",
       "      <td>control</td>\n",
       "      <td>NaN</td>\n",
       "      <td>2018</td>\n",
       "      <td>manually</td>\n",
       "      <td>94.0</td>\n",
       "      <td>v40</td>\n",
       "      <td>150000</td>\n",
       "      <td>6</td>\n",
       "      <td>NaN</td>\n",
       "      <td>volvo</td>\n",
       "      <td>no</td>\n",
       "    </tr>\n",
       "    <tr>\n",
       "      <th>54295</th>\n",
       "      <td>Mazda_5_2.0_CD_DPF_Exclusive</td>\n",
       "      <td>private</td>\n",
       "      <td>offer</td>\n",
       "      <td>10000000</td>\n",
       "      <td>control</td>\n",
       "      <td>bus</td>\n",
       "      <td>2007</td>\n",
       "      <td>manually</td>\n",
       "      <td>141.0</td>\n",
       "      <td>5_reihe</td>\n",
       "      <td>150000</td>\n",
       "      <td>2</td>\n",
       "      <td>diesel</td>\n",
       "      <td>mazda</td>\n",
       "      <td>no</td>\n",
       "    </tr>\n",
       "  </tbody>\n",
       "</table>\n",
       "</div>"
      ],
      "text/plain": [
       "                                                    name   seller offerType  \\\n",
       "14663                         Tausch_moeglich_Polo_vw_n9  private     offer   \n",
       "20746                                 Golf3_Schlachtfest  private     offer   \n",
       "21467  Porsche_911_911R_1_of_20_ORIGINAL_R_nur_798KG!...  private     offer   \n",
       "39625                        Tausche_volvo_v40_gegen_van  private     offer   \n",
       "54295                       Mazda_5_2.0_CD_DPF_Exclusive  private     offer   \n",
       "\n",
       "          price   abtest vehicleType  yearOfRegistration   gearbox  powerCV  \\\n",
       "14663  11111111  control       coupe                2003  manually     63.0   \n",
       "20746  12345678     test         NaN                1995       NaN      0.0   \n",
       "21467   9999999  control       coupe                1967  manually    212.0   \n",
       "39625  12345678  control         NaN                2018  manually     94.0   \n",
       "54295  10000000  control         bus                2007  manually    141.0   \n",
       "\n",
       "         model  kilometer  monthOfRegistration fuelType       brand  \\\n",
       "14663     polo     150000                    2   petrol  volkswagen   \n",
       "20746      NaN     150000                    0      NaN  volkswagen   \n",
       "21467      911      50000                   10   petrol     porsche   \n",
       "39625      v40     150000                    6      NaN       volvo   \n",
       "54295  5_reihe     150000                    2   diesel       mazda   \n",
       "\n",
       "      notRepairedDamage  \n",
       "14663               NaN  \n",
       "20746               NaN  \n",
       "21467                no  \n",
       "39625                no  \n",
       "54295                no  "
      ]
     },
     "execution_count": 120,
     "metadata": {},
     "output_type": "execute_result"
    }
   ],
   "source": [
    "print(f\"We have a total of {df[df['price'] > 4e6].shape[0]} entries with a price greater than 4 M\")\n",
    "\n",
    "df[df['price'] > 4e6].head()"
   ]
  },
  {
   "cell_type": "markdown",
   "metadata": {},
   "source": [
    "Por lo tanto filtramos los datos por precios de esta forma"
   ]
  },
  {
   "cell_type": "code",
   "execution_count": 121,
   "metadata": {},
   "outputs": [],
   "source": [
    "filter_price = (df['price'] > 100) & (df['price'] < 4e6)\n",
    "\n",
    "df = df[filter_price]"
   ]
  },
  {
   "cell_type": "markdown",
   "metadata": {},
   "source": [
    "---"
   ]
  },
  {
   "cell_type": "markdown",
   "metadata": {},
   "source": [
    "### `yearOfRegistration`"
   ]
  },
  {
   "cell_type": "markdown",
   "metadata": {},
   "source": [
    "El año de registro no puede ser mayor a 2016, que es el año máximo de extracción de la información. Sin embargo, comprobemos las entradas de años posteriores igualmente"
   ]
  },
  {
   "cell_type": "code",
   "execution_count": 122,
   "metadata": {},
   "outputs": [
    {
     "data": {
      "text/plain": [
       "yearOfRegistration\n",
       "2017    9855\n",
       "2018    3766\n",
       "2019      15\n",
       "9999      14\n",
       "5000      14\n",
       "Name: count, dtype: int64"
      ]
     },
     "execution_count": 122,
     "metadata": {},
     "output_type": "execute_result"
    }
   ],
   "source": [
    "df[df['yearOfRegistration'] > 2016]['yearOfRegistration'].value_counts().head()"
   ]
  },
  {
   "cell_type": "markdown",
   "metadata": {},
   "source": [
    "Vemos que tenemos bastantes entradas en 2017 y 2018, por lo que vamos a conservarlas ya que puede ser realista que haya habido una extracción de datos en estos años. El resto de valores son menos frecuentes por lo que podemos presuponer que son errores de forma que los etiquetaremos como nulos."
   ]
  },
  {
   "cell_type": "code",
   "execution_count": 123,
   "metadata": {},
   "outputs": [],
   "source": [
    "filter_year_up = df['yearOfRegistration'] > 2018"
   ]
  },
  {
   "cell_type": "markdown",
   "metadata": {},
   "source": [
    "Veamos qué sucede con los vehículos con años de registro más antiguas"
   ]
  },
  {
   "cell_type": "markdown",
   "metadata": {},
   "source": [
    "Por ejemplo, veamos cuántos vehículos hay más antiguos de 1930"
   ]
  },
  {
   "cell_type": "code",
   "execution_count": 124,
   "metadata": {},
   "outputs": [
    {
     "data": {
      "text/plain": [
       "yearOfRegistration\n",
       "1910    35\n",
       "1000    23\n",
       "1929     7\n",
       "1800     3\n",
       "1234     3\n",
       "Name: count, dtype: int64"
      ]
     },
     "execution_count": 124,
     "metadata": {},
     "output_type": "execute_result"
    }
   ],
   "source": [
    "df[df['yearOfRegistration'] < 1930]['yearOfRegistration'].value_counts().head()"
   ]
  },
  {
   "cell_type": "markdown",
   "metadata": {},
   "source": [
    "Destacan 36 entradas de 1910, que posiblemente sean errores. Vamos a ver gráficamente la distribución"
   ]
  },
  {
   "cell_type": "code",
   "execution_count": 125,
   "metadata": {},
   "outputs": [
    {
     "data": {
      "image/png": "[encoded data removed]",
      "text/plain": [
       "<Figure size 800x400 with 1 Axes>"
      ]
     },
     "metadata": {},
     "output_type": "display_data"
    },
    {
     "data": {
      "image/png": "[encoded data removed]",
      "text/plain": [
       "<Figure size 800x400 with 1 Axes>"
      ]
     },
     "metadata": {},
     "output_type": "display_data"
    }
   ],
   "source": [
    "distribution(df, 1890, 1970, 'yearOfRegistration', n=5, size=(8,4))\n",
    "distribution(df, 1970, 2018, 'yearOfRegistration', n=5, size=(8,4))"
   ]
  },
  {
   "cell_type": "markdown",
   "metadata": {},
   "source": [
    "Claramente destaca ese grupo de 1910 por lo que las entradas anteriores a 1920 las trataremos como nulos."
   ]
  },
  {
   "cell_type": "code",
   "execution_count": 126,
   "metadata": {},
   "outputs": [],
   "source": [
    "filter_year_down = df['yearOfRegistration'] > 1920"
   ]
  },
  {
   "cell_type": "markdown",
   "metadata": {},
   "source": [
    "Aplicamos los filtros convirtiendo los valroes de año a nulos"
   ]
  },
  {
   "cell_type": "code",
   "execution_count": 127,
   "metadata": {},
   "outputs": [],
   "source": [
    "df[filter_year_up | filter_year_down]['yearOfRegistration'] = np.nan"
   ]
  },
  {
   "cell_type": "markdown",
   "metadata": {},
   "source": [
    "---"
   ]
  },
  {
   "cell_type": "markdown",
   "metadata": {},
   "source": [
    "### `powerCV`"
   ]
  },
  {
   "cell_type": "markdown",
   "metadata": {},
   "source": [
    "Un vehículo de más de 1200 CV prácticamente no existe, por lo que vamos a ver qué sucede con las altas potencias hasta este valor. Tomemos el rango de 500 a 1200. Los valores superiores a 1200 directamente los convertiremos en nulos"
   ]
  },
  {
   "cell_type": "code",
   "execution_count": 128,
   "metadata": {},
   "outputs": [
    {
     "data": {
      "image/png": "[encoded data removed]",
      "text/plain": [
       "<Figure size 1000x500 with 1 Axes>"
      ]
     },
     "metadata": {},
     "output_type": "display_data"
    }
   ],
   "source": [
    "distribution(df, 500, 1200, 'powerCV', n = 25)"
   ]
  },
  {
   "cell_type": "code",
   "execution_count": 129,
   "metadata": {},
   "outputs": [
    {
     "data": {
      "text/html": [
       "<div>\n",
       "<style scoped>\n",
       "    .dataframe tbody tr th:only-of-type {\n",
       "        vertical-align: middle;\n",
       "    }\n",
       "\n",
       "    .dataframe tbody tr th {\n",
       "        vertical-align: top;\n",
       "    }\n",
       "\n",
       "    .dataframe thead th {\n",
       "        text-align: right;\n",
       "    }\n",
       "</style>\n",
       "<table border=\"1\" class=\"dataframe\">\n",
       "  <thead>\n",
       "    <tr style=\"text-align: right;\">\n",
       "      <th></th>\n",
       "      <th>name</th>\n",
       "      <th>seller</th>\n",
       "      <th>offerType</th>\n",
       "      <th>price</th>\n",
       "      <th>abtest</th>\n",
       "      <th>vehicleType</th>\n",
       "      <th>yearOfRegistration</th>\n",
       "      <th>gearbox</th>\n",
       "      <th>powerCV</th>\n",
       "      <th>model</th>\n",
       "      <th>kilometer</th>\n",
       "      <th>monthOfRegistration</th>\n",
       "      <th>fuelType</th>\n",
       "      <th>brand</th>\n",
       "      <th>notRepairedDamage</th>\n",
       "    </tr>\n",
       "  </thead>\n",
       "  <tbody>\n",
       "    <tr>\n",
       "      <th>13538</th>\n",
       "      <td>Corvette_Z06_60th_Jubilaeumsmodell__performanc...</td>\n",
       "      <td>private</td>\n",
       "      <td>offer</td>\n",
       "      <td>88000</td>\n",
       "      <td>control</td>\n",
       "      <td>coupe</td>\n",
       "      <td>2014</td>\n",
       "      <td>manually</td>\n",
       "      <td>506.0</td>\n",
       "      <td>NaN</td>\n",
       "      <td>30000</td>\n",
       "      <td>7</td>\n",
       "      <td>NaN</td>\n",
       "      <td>sonstige_autos</td>\n",
       "      <td>no</td>\n",
       "    </tr>\n",
       "    <tr>\n",
       "      <th>54849</th>\n",
       "      <td>Schlachtfest_Opel_astra_f</td>\n",
       "      <td>private</td>\n",
       "      <td>offer</td>\n",
       "      <td>500</td>\n",
       "      <td>control</td>\n",
       "      <td>small car</td>\n",
       "      <td>1945</td>\n",
       "      <td>manually</td>\n",
       "      <td>986.0</td>\n",
       "      <td>astra</td>\n",
       "      <td>100000</td>\n",
       "      <td>5</td>\n",
       "      <td>NaN</td>\n",
       "      <td>opel</td>\n",
       "      <td>yes</td>\n",
       "    </tr>\n",
       "    <tr>\n",
       "      <th>61233</th>\n",
       "      <td>Mercedes_Benz_SL_63_AMG_SPEEDSHIFT_MCT</td>\n",
       "      <td>private</td>\n",
       "      <td>offer</td>\n",
       "      <td>61800</td>\n",
       "      <td>test</td>\n",
       "      <td>convertible</td>\n",
       "      <td>2008</td>\n",
       "      <td>automatic</td>\n",
       "      <td>562.0</td>\n",
       "      <td>sl</td>\n",
       "      <td>70000</td>\n",
       "      <td>8</td>\n",
       "      <td>petrol</td>\n",
       "      <td>mercedes_benz</td>\n",
       "      <td>no</td>\n",
       "    </tr>\n",
       "    <tr>\n",
       "      <th>41980</th>\n",
       "      <td>Maserati_MC12</td>\n",
       "      <td>private</td>\n",
       "      <td>offer</td>\n",
       "      <td>2995000</td>\n",
       "      <td>control</td>\n",
       "      <td>coupe</td>\n",
       "      <td>2005</td>\n",
       "      <td>NaN</td>\n",
       "      <td>621.0</td>\n",
       "      <td>NaN</td>\n",
       "      <td>5000</td>\n",
       "      <td>7</td>\n",
       "      <td>petrol</td>\n",
       "      <td>sonstige_autos</td>\n",
       "      <td>no</td>\n",
       "    </tr>\n",
       "    <tr>\n",
       "      <th>247101</th>\n",
       "      <td>BMW_M5_DKG_Frozen_Black_..._MwST._ausweisbar_!!!</td>\n",
       "      <td>private</td>\n",
       "      <td>offer</td>\n",
       "      <td>47900</td>\n",
       "      <td>control</td>\n",
       "      <td>NaN</td>\n",
       "      <td>2012</td>\n",
       "      <td>automatic</td>\n",
       "      <td>552.0</td>\n",
       "      <td>m_reihe</td>\n",
       "      <td>90000</td>\n",
       "      <td>3</td>\n",
       "      <td>petrol</td>\n",
       "      <td>bmw</td>\n",
       "      <td>no</td>\n",
       "    </tr>\n",
       "  </tbody>\n",
       "</table>\n",
       "</div>"
      ],
      "text/plain": [
       "                                                     name   seller offerType  \\\n",
       "13538   Corvette_Z06_60th_Jubilaeumsmodell__performanc...  private     offer   \n",
       "54849                           Schlachtfest_Opel_astra_f  private     offer   \n",
       "61233              Mercedes_Benz_SL_63_AMG_SPEEDSHIFT_MCT  private     offer   \n",
       "41980                                       Maserati_MC12  private     offer   \n",
       "247101   BMW_M5_DKG_Frozen_Black_..._MwST._ausweisbar_!!!  private     offer   \n",
       "\n",
       "          price   abtest  vehicleType  yearOfRegistration    gearbox  powerCV  \\\n",
       "13538     88000  control        coupe                2014   manually    506.0   \n",
       "54849       500  control    small car                1945   manually    986.0   \n",
       "61233     61800     test  convertible                2008  automatic    562.0   \n",
       "41980   2995000  control        coupe                2005        NaN    621.0   \n",
       "247101    47900  control          NaN                2012  automatic    552.0   \n",
       "\n",
       "          model  kilometer  monthOfRegistration fuelType           brand  \\\n",
       "13538       NaN      30000                    7      NaN  sonstige_autos   \n",
       "54849     astra     100000                    5      NaN            opel   \n",
       "61233        sl      70000                    8   petrol   mercedes_benz   \n",
       "41980       NaN       5000                    7   petrol  sonstige_autos   \n",
       "247101  m_reihe      90000                    3   petrol             bmw   \n",
       "\n",
       "       notRepairedDamage  \n",
       "13538                 no  \n",
       "54849                yes  \n",
       "61233                 no  \n",
       "41980                 no  \n",
       "247101                no  "
      ]
     },
     "execution_count": 129,
     "metadata": {},
     "output_type": "execute_result"
    }
   ],
   "source": [
    "df[(df['powerCV'] > 500) & (df['powerCV'] < 1200)].sample(5)"
   ]
  },
  {
   "cell_type": "markdown",
   "metadata": {},
   "source": [
    "Vemos que a partir de 500 la frecuencia de vehículos disminuye considerablemente. Sin embargo, es difícil establecer un criterio adecuado para discernir si los valores tienen sentido, ya que algunos son claramente erróneos mientras que otros sí son vehículos potentes. Vamos a dejar el corte en 1200"
   ]
  },
  {
   "cell_type": "code",
   "execution_count": 130,
   "metadata": {},
   "outputs": [
    {
     "data": {
      "image/png": "[encoded data removed]",
      "text/plain": [
       "<Figure size 600x300 with 1 Axes>"
      ]
     },
     "metadata": {},
     "output_type": "display_data"
    }
   ],
   "source": [
    "distribution(df, 1200, 10200, 'powerCV', n = 1000, size=(6, 3))"
   ]
  },
  {
   "cell_type": "markdown",
   "metadata": {},
   "source": [
    "Finalmente vemos que a partir de 1200 hay muy pocas entradas, de forma que las convertimos en nulo sin problema"
   ]
  },
  {
   "cell_type": "code",
   "execution_count": 131,
   "metadata": {},
   "outputs": [],
   "source": [
    "filter_power_up = df['powerCV'] > 1200"
   ]
  },
  {
   "cell_type": "markdown",
   "metadata": {},
   "source": [
    "En cuanto al rango inferior, los vehículos con menor potencia que tienen sentido pueden bajar hasta 50 CV. Dejemos el umbral en 40 CV, para dejar la puerta abierta a posibles vehículos clásicos o muy antiguos que puedan tener menor potencia."
   ]
  },
  {
   "cell_type": "code",
   "execution_count": 132,
   "metadata": {},
   "outputs": [
    {
     "data": {
      "image/png": "[encoded data removed]",
      "text/plain": [
       "<Figure size 1000x400 with 1 Axes>"
      ]
     },
     "metadata": {},
     "output_type": "display_data"
    }
   ],
   "source": [
    "distribution(df, 0, 40, 'powerCV', n = 1, size=(10,4))"
   ]
  },
  {
   "cell_type": "markdown",
   "metadata": {},
   "source": [
    "Vemos que la gran mayoría de valores son 0. Obviamente estas entradas son valores incorrectos por lo que los anularemos. Igualmente podemos revisar qué sucede con este rango de potencias"
   ]
  },
  {
   "cell_type": "code",
   "execution_count": 133,
   "metadata": {},
   "outputs": [
    {
     "data": {
      "image/png": "[encoded data removed]",
      "text/plain": [
       "<Figure size 1000x400 with 1 Axes>"
      ]
     },
     "metadata": {},
     "output_type": "display_data"
    }
   ],
   "source": [
    "distribution(df, 1, 40, 'powerCV', n = 1, size=(10,4))"
   ]
  },
  {
   "cell_type": "markdown",
   "metadata": {},
   "source": [
    "Efectivamente comprobamos que a partir de 40 CV comienza a haber una cantidad de valores importante."
   ]
  },
  {
   "cell_type": "code",
   "execution_count": 134,
   "metadata": {},
   "outputs": [
    {
     "data": {
      "text/html": [
       "<div>\n",
       "<style scoped>\n",
       "    .dataframe tbody tr th:only-of-type {\n",
       "        vertical-align: middle;\n",
       "    }\n",
       "\n",
       "    .dataframe tbody tr th {\n",
       "        vertical-align: top;\n",
       "    }\n",
       "\n",
       "    .dataframe thead th {\n",
       "        text-align: right;\n",
       "    }\n",
       "</style>\n",
       "<table border=\"1\" class=\"dataframe\">\n",
       "  <thead>\n",
       "    <tr style=\"text-align: right;\">\n",
       "      <th></th>\n",
       "      <th>name</th>\n",
       "      <th>seller</th>\n",
       "      <th>offerType</th>\n",
       "      <th>price</th>\n",
       "      <th>abtest</th>\n",
       "      <th>vehicleType</th>\n",
       "      <th>yearOfRegistration</th>\n",
       "      <th>gearbox</th>\n",
       "      <th>powerCV</th>\n",
       "      <th>model</th>\n",
       "      <th>kilometer</th>\n",
       "      <th>monthOfRegistration</th>\n",
       "      <th>fuelType</th>\n",
       "      <th>brand</th>\n",
       "      <th>notRepairedDamage</th>\n",
       "    </tr>\n",
       "  </thead>\n",
       "  <tbody>\n",
       "    <tr>\n",
       "      <th>28349</th>\n",
       "      <td>Citroën_2_CV_6_Club</td>\n",
       "      <td>private</td>\n",
       "      <td>offer</td>\n",
       "      <td>8880</td>\n",
       "      <td>control</td>\n",
       "      <td>small car</td>\n",
       "      <td>1988</td>\n",
       "      <td>manually</td>\n",
       "      <td>27.0</td>\n",
       "      <td>andere</td>\n",
       "      <td>150000</td>\n",
       "      <td>4</td>\n",
       "      <td>petrol</td>\n",
       "      <td>citroen</td>\n",
       "      <td>no</td>\n",
       "    </tr>\n",
       "    <tr>\n",
       "      <th>55896</th>\n",
       "      <td>Fiat_500</td>\n",
       "      <td>private</td>\n",
       "      <td>offer</td>\n",
       "      <td>700</td>\n",
       "      <td>control</td>\n",
       "      <td>small car</td>\n",
       "      <td>1996</td>\n",
       "      <td>manually</td>\n",
       "      <td>34.0</td>\n",
       "      <td>500</td>\n",
       "      <td>80000</td>\n",
       "      <td>2</td>\n",
       "      <td>diesel</td>\n",
       "      <td>fiat</td>\n",
       "      <td>no</td>\n",
       "    </tr>\n",
       "    <tr>\n",
       "      <th>140286</th>\n",
       "      <td>Volkswagen_Kaefer_Restauriert_Oldtimer_Top</td>\n",
       "      <td>private</td>\n",
       "      <td>offer</td>\n",
       "      <td>10999</td>\n",
       "      <td>test</td>\n",
       "      <td>NaN</td>\n",
       "      <td>1968</td>\n",
       "      <td>manually</td>\n",
       "      <td>34.0</td>\n",
       "      <td>kaefer</td>\n",
       "      <td>40000</td>\n",
       "      <td>3</td>\n",
       "      <td>petrol</td>\n",
       "      <td>volkswagen</td>\n",
       "      <td>no</td>\n",
       "    </tr>\n",
       "    <tr>\n",
       "      <th>346333</th>\n",
       "      <td>Zastava_750_Der_Hingucker</td>\n",
       "      <td>private</td>\n",
       "      <td>offer</td>\n",
       "      <td>12599</td>\n",
       "      <td>control</td>\n",
       "      <td>convertible</td>\n",
       "      <td>1979</td>\n",
       "      <td>manually</td>\n",
       "      <td>27.0</td>\n",
       "      <td>500</td>\n",
       "      <td>100000</td>\n",
       "      <td>1</td>\n",
       "      <td>petrol</td>\n",
       "      <td>fiat</td>\n",
       "      <td>NaN</td>\n",
       "    </tr>\n",
       "    <tr>\n",
       "      <th>45275</th>\n",
       "      <td>Volkswagen_VW_1200_Kaefer_L</td>\n",
       "      <td>private</td>\n",
       "      <td>offer</td>\n",
       "      <td>1600</td>\n",
       "      <td>test</td>\n",
       "      <td>small car</td>\n",
       "      <td>1984</td>\n",
       "      <td>manually</td>\n",
       "      <td>34.0</td>\n",
       "      <td>kaefer</td>\n",
       "      <td>100000</td>\n",
       "      <td>1</td>\n",
       "      <td>petrol</td>\n",
       "      <td>volkswagen</td>\n",
       "      <td>yes</td>\n",
       "    </tr>\n",
       "  </tbody>\n",
       "</table>\n",
       "</div>"
      ],
      "text/plain": [
       "                                              name   seller offerType  price  \\\n",
       "28349                          Citroën_2_CV_6_Club  private     offer   8880   \n",
       "55896                                     Fiat_500  private     offer    700   \n",
       "140286  Volkswagen_Kaefer_Restauriert_Oldtimer_Top  private     offer  10999   \n",
       "346333                   Zastava_750_Der_Hingucker  private     offer  12599   \n",
       "45275                  Volkswagen_VW_1200_Kaefer_L  private     offer   1600   \n",
       "\n",
       "         abtest  vehicleType  yearOfRegistration   gearbox  powerCV   model  \\\n",
       "28349   control    small car                1988  manually     27.0  andere   \n",
       "55896   control    small car                1996  manually     34.0     500   \n",
       "140286     test          NaN                1968  manually     34.0  kaefer   \n",
       "346333  control  convertible                1979  manually     27.0     500   \n",
       "45275      test    small car                1984  manually     34.0  kaefer   \n",
       "\n",
       "        kilometer  monthOfRegistration fuelType       brand notRepairedDamage  \n",
       "28349      150000                    4   petrol     citroen                no  \n",
       "55896       80000                    2   diesel        fiat                no  \n",
       "140286      40000                    3   petrol  volkswagen                no  \n",
       "346333     100000                    1   petrol        fiat               NaN  \n",
       "45275      100000                    1   petrol  volkswagen               yes  "
      ]
     },
     "execution_count": 134,
     "metadata": {},
     "output_type": "execute_result"
    }
   ],
   "source": [
    "df[(df['powerCV'] < 40) & (df['powerCV'] > 0)].sample(5)"
   ]
  },
  {
   "cell_type": "markdown",
   "metadata": {},
   "source": [
    "Igualmente comprobamos que la mayoría de estas entradas no parecen tener sentido por lo que vamos a dejarlas como nulos."
   ]
  },
  {
   "cell_type": "code",
   "execution_count": 135,
   "metadata": {},
   "outputs": [],
   "source": [
    "filter_power_down = df['powerCV'] < 40"
   ]
  },
  {
   "cell_type": "code",
   "execution_count": 136,
   "metadata": {},
   "outputs": [],
   "source": [
    "df[filter_power_up | filter_power_down]['powerCV'] = np.nan"
   ]
  },
  {
   "cell_type": "markdown",
   "metadata": {},
   "source": [
    "---"
   ]
  },
  {
   "cell_type": "markdown",
   "metadata": {},
   "source": [
    "###  `kilometer`"
   ]
  },
  {
   "cell_type": "markdown",
   "metadata": {},
   "source": [
    "La variable `kilometer` debería ser numérica continua. Sin embargo, los datos parecen estar agrupados en intervalos de kilometraje discretos, como múltiplos de 5000 o 10000 kilómetros. Esto tiene sentido, ya que es común en los anuncios de coches de segunda mano categorizar el kilometraje en valores redondeados.\n",
    "\n",
    "Agrupar los datos de esta manera introduce un sesgo, y puede distorsionar la percepción del kilometraje real de los coches. Lamentablemente, no tenemos acceso a información más detallada, por lo que continuaremos con esto."
   ]
  },
  {
   "cell_type": "code",
   "execution_count": 137,
   "metadata": {},
   "outputs": [
    {
     "data": {
      "text/plain": [
       "kilometer\n",
       "150000    228495\n",
       "125000     36721\n",
       "100000     15094\n",
       "90000      12095\n",
       "80000      10696\n",
       "70000       9544\n",
       "60000       8381\n",
       "50000       7418\n",
       "40000       6178\n",
       "30000       5776\n",
       "20000       5398\n",
       "5000        5369\n",
       "10000       1814\n",
       "Name: count, dtype: int64"
      ]
     },
     "execution_count": 137,
     "metadata": {},
     "output_type": "execute_result"
    }
   ],
   "source": [
    "df['kilometer'].value_counts()"
   ]
  },
  {
   "cell_type": "code",
   "execution_count": 138,
   "metadata": {},
   "outputs": [
    {
     "data": {
      "image/png": "[encoded data removed]",
      "text/plain": [
       "<Figure size 1000x400 with 1 Axes>"
      ]
     },
     "metadata": {},
     "output_type": "display_data"
    }
   ],
   "source": [
    "distribution(df, 0, 150000, 'kilometer', n = 5000, size = (10, 4))"
   ]
  },
  {
   "cell_type": "markdown",
   "metadata": {},
   "source": [
    "Como todos estos valores son razonables no añadiremos ningún filtro adicional"
   ]
  },
  {
   "cell_type": "markdown",
   "metadata": {},
   "source": [
    "---"
   ]
  },
  {
   "cell_type": "markdown",
   "metadata": {},
   "source": [
    "### `monthOfRegistration`"
   ]
  },
  {
   "cell_type": "code",
   "execution_count": 139,
   "metadata": {},
   "outputs": [
    {
     "data": {
      "text/plain": [
       "monthOfRegistration\n",
       "3     35007\n",
       "6     31914\n",
       "0     31201\n",
       "4     29870\n",
       "5     29514\n",
       "7     27956\n",
       "10    26421\n",
       "11    24612\n",
       "12    24336\n",
       "9     24163\n",
       "1     23529\n",
       "8     22859\n",
       "2     21597\n",
       "Name: count, dtype: int64"
      ]
     },
     "execution_count": 139,
     "metadata": {},
     "output_type": "execute_result"
    }
   ],
   "source": [
    "df['monthOfRegistration'].value_counts()"
   ]
  },
  {
   "cell_type": "markdown",
   "metadata": {},
   "source": [
    "Tenemos valores del 0 al 12. Estos se corresponden con el mes de registro del vehículo salvo el 0, que podemos interpretar como desconocido.\n",
    "\n",
    "Esta variable realmente es una categoría por lo que vamos a convertirla a objeto"
   ]
  },
  {
   "cell_type": "code",
   "execution_count": 140,
   "metadata": {},
   "outputs": [],
   "source": [
    "df['monthOfRegistration'] = df['monthOfRegistration'].astype(object)"
   ]
  },
  {
   "cell_type": "code",
   "execution_count": 141,
   "metadata": {},
   "outputs": [
    {
     "data": {
      "image/png": "[encoded data removed]",
      "text/plain": [
       "<Figure size 800x400 with 1 Axes>"
      ]
     },
     "metadata": {},
     "output_type": "display_data"
    }
   ],
   "source": [
    "count_plot(df, 'monthOfRegistration')"
   ]
  },
  {
   "cell_type": "markdown",
   "metadata": {},
   "source": [
    "Parece que algunos meses son más frecuentes que otros, aunque no hay grandes diferencias. Como la información principal sobre la evolución temporal del registro del vehículo la tenemos en `yearOfRegistration` podemos ignorar esta categoría por ahora."
   ]
  },
  {
   "cell_type": "code",
   "execution_count": 142,
   "metadata": {},
   "outputs": [],
   "source": [
    "df.drop(columns='monthOfRegistration', inplace=True)"
   ]
  },
  {
   "cell_type": "markdown",
   "metadata": {},
   "source": [
    "---"
   ]
  },
  {
   "cell_type": "markdown",
   "metadata": {},
   "source": [
    "## Categoric data"
   ]
  },
  {
   "cell_type": "code",
   "execution_count": 143,
   "metadata": {},
   "outputs": [
    {
     "data": {
      "text/html": [
       "<div>\n",
       "<style scoped>\n",
       "    .dataframe tbody tr th:only-of-type {\n",
       "        vertical-align: middle;\n",
       "    }\n",
       "\n",
       "    .dataframe tbody tr th {\n",
       "        vertical-align: top;\n",
       "    }\n",
       "\n",
       "    .dataframe thead th {\n",
       "        text-align: right;\n",
       "    }\n",
       "</style>\n",
       "<table border=\"1\" class=\"dataframe\">\n",
       "  <thead>\n",
       "    <tr style=\"text-align: right;\">\n",
       "      <th></th>\n",
       "      <th>count</th>\n",
       "      <th>unique</th>\n",
       "      <th>top</th>\n",
       "      <th>freq</th>\n",
       "    </tr>\n",
       "  </thead>\n",
       "  <tbody>\n",
       "    <tr>\n",
       "      <th>name</th>\n",
       "      <td>352979</td>\n",
       "      <td>222118</td>\n",
       "      <td>BMW_318i</td>\n",
       "      <td>624</td>\n",
       "    </tr>\n",
       "    <tr>\n",
       "      <th>seller</th>\n",
       "      <td>352979</td>\n",
       "      <td>2</td>\n",
       "      <td>private</td>\n",
       "      <td>352977</td>\n",
       "    </tr>\n",
       "    <tr>\n",
       "      <th>offerType</th>\n",
       "      <td>352979</td>\n",
       "      <td>2</td>\n",
       "      <td>offer</td>\n",
       "      <td>352973</td>\n",
       "    </tr>\n",
       "    <tr>\n",
       "      <th>abtest</th>\n",
       "      <td>352979</td>\n",
       "      <td>2</td>\n",
       "      <td>test</td>\n",
       "      <td>182845</td>\n",
       "    </tr>\n",
       "    <tr>\n",
       "      <th>vehicleType</th>\n",
       "      <td>228375</td>\n",
       "      <td>7</td>\n",
       "      <td>small car</td>\n",
       "      <td>76392</td>\n",
       "    </tr>\n",
       "    <tr>\n",
       "      <th>gearbox</th>\n",
       "      <td>336758</td>\n",
       "      <td>2</td>\n",
       "      <td>manually</td>\n",
       "      <td>262574</td>\n",
       "    </tr>\n",
       "    <tr>\n",
       "      <th>model</th>\n",
       "      <td>335413</td>\n",
       "      <td>251</td>\n",
       "      <td>golf</td>\n",
       "      <td>28534</td>\n",
       "    </tr>\n",
       "    <tr>\n",
       "      <th>fuelType</th>\n",
       "      <td>324641</td>\n",
       "      <td>7</td>\n",
       "      <td>petrol</td>\n",
       "      <td>214353</td>\n",
       "    </tr>\n",
       "    <tr>\n",
       "      <th>brand</th>\n",
       "      <td>352979</td>\n",
       "      <td>40</td>\n",
       "      <td>volkswagen</td>\n",
       "      <td>75426</td>\n",
       "    </tr>\n",
       "    <tr>\n",
       "      <th>notRepairedDamage</th>\n",
       "      <td>288969</td>\n",
       "      <td>2</td>\n",
       "      <td>no</td>\n",
       "      <td>255922</td>\n",
       "    </tr>\n",
       "  </tbody>\n",
       "</table>\n",
       "</div>"
      ],
      "text/plain": [
       "                    count  unique         top    freq\n",
       "name               352979  222118    BMW_318i     624\n",
       "seller             352979       2     private  352977\n",
       "offerType          352979       2       offer  352973\n",
       "abtest             352979       2        test  182845\n",
       "vehicleType        228375       7   small car   76392\n",
       "gearbox            336758       2    manually  262574\n",
       "model              335413     251        golf   28534\n",
       "fuelType           324641       7      petrol  214353\n",
       "brand              352979      40  volkswagen   75426\n",
       "notRepairedDamage  288969       2          no  255922"
      ]
     },
     "execution_count": 143,
     "metadata": {},
     "output_type": "execute_result"
    }
   ],
   "source": [
    "df.describe(include='O').T"
   ]
  },
  {
   "cell_type": "markdown",
   "metadata": {},
   "source": [
    "---"
   ]
  },
  {
   "cell_type": "markdown",
   "metadata": {},
   "source": [
    "### `name`"
   ]
  },
  {
   "cell_type": "markdown",
   "metadata": {},
   "source": [
    "Tenemos muchas entradas diferentes para `name` por lo que realmente no nos aporta demasiada información para elaborar un modelo predictivo de precios. La información como modelo y marca las tenemos almacenadas en otras variables."
   ]
  },
  {
   "cell_type": "code",
   "execution_count": 144,
   "metadata": {},
   "outputs": [],
   "source": [
    "df.drop(columns='name', inplace=True)"
   ]
  },
  {
   "cell_type": "markdown",
   "metadata": {},
   "source": [
    "---"
   ]
  },
  {
   "cell_type": "markdown",
   "metadata": {},
   "source": [
    "### `seller`"
   ]
  },
  {
   "cell_type": "code",
   "execution_count": 145,
   "metadata": {},
   "outputs": [
    {
     "data": {
      "text/plain": [
       "seller\n",
       "private       352977\n",
       "commercial         2\n",
       "Name: count, dtype: int64"
      ]
     },
     "execution_count": 145,
     "metadata": {},
     "output_type": "execute_result"
    }
   ],
   "source": [
    "df['seller'].value_counts()"
   ]
  },
  {
   "cell_type": "markdown",
   "metadata": {},
   "source": [
    "Hay dos tipos de `seller`, `private` y `commercial`. Sin embargo, de más de 350000 entradas únicamente 2 son `commercial` por lo que esta columna no nos aporta información. La eliminamos también."
   ]
  },
  {
   "cell_type": "code",
   "execution_count": 146,
   "metadata": {},
   "outputs": [],
   "source": [
    "df.drop(columns='seller', inplace=True)"
   ]
  },
  {
   "cell_type": "markdown",
   "metadata": {},
   "source": [
    "---"
   ]
  },
  {
   "cell_type": "markdown",
   "metadata": {},
   "source": [
    "### `offerType`"
   ]
  },
  {
   "cell_type": "code",
   "execution_count": 147,
   "metadata": {},
   "outputs": [
    {
     "data": {
      "text/plain": [
       "offerType\n",
       "offer      352973\n",
       "request         6\n",
       "Name: count, dtype: int64"
      ]
     },
     "execution_count": 147,
     "metadata": {},
     "output_type": "execute_result"
    }
   ],
   "source": [
    "df['offerType'].value_counts()"
   ]
  },
  {
   "cell_type": "markdown",
   "metadata": {},
   "source": [
    "Hay dos tipos de `offerType`: `offer` y `request`. Sin embargo, de más de 350000 entradas únicamente 6 son `request` por lo que esta columna no nos aporta información. La eliminamos también."
   ]
  },
  {
   "cell_type": "code",
   "execution_count": 148,
   "metadata": {},
   "outputs": [],
   "source": [
    "df.drop(columns='offerType', inplace=True)"
   ]
  },
  {
   "cell_type": "markdown",
   "metadata": {},
   "source": [
    "---"
   ]
  },
  {
   "cell_type": "markdown",
   "metadata": {},
   "source": [
    "### `abtest`"
   ]
  },
  {
   "cell_type": "markdown",
   "metadata": {},
   "source": [
    "En principio este campo se utiliza para un A/B test, pero realmente desconocemos su propósito real. Posiblemente podamos eliminarla, pero antes vamos a comprobar algunas métricas clave"
   ]
  },
  {
   "cell_type": "code",
   "execution_count": 149,
   "metadata": {},
   "outputs": [
    {
     "data": {
      "text/html": [
       "<div>\n",
       "<style scoped>\n",
       "    .dataframe tbody tr th:only-of-type {\n",
       "        vertical-align: middle;\n",
       "    }\n",
       "\n",
       "    .dataframe tbody tr th {\n",
       "        vertical-align: top;\n",
       "    }\n",
       "\n",
       "    .dataframe thead th {\n",
       "        text-align: right;\n",
       "    }\n",
       "</style>\n",
       "<table border=\"1\" class=\"dataframe\">\n",
       "  <thead>\n",
       "    <tr style=\"text-align: right;\">\n",
       "      <th></th>\n",
       "      <th>count</th>\n",
       "      <th>mean</th>\n",
       "      <th>std</th>\n",
       "      <th>min</th>\n",
       "      <th>25%</th>\n",
       "      <th>50%</th>\n",
       "      <th>75%</th>\n",
       "      <th>max</th>\n",
       "    </tr>\n",
       "    <tr>\n",
       "      <th>abtest</th>\n",
       "      <th></th>\n",
       "      <th></th>\n",
       "      <th></th>\n",
       "      <th></th>\n",
       "      <th></th>\n",
       "      <th></th>\n",
       "      <th></th>\n",
       "      <th></th>\n",
       "    </tr>\n",
       "  </thead>\n",
       "  <tbody>\n",
       "    <tr>\n",
       "      <th>control</th>\n",
       "      <td>170134.0</td>\n",
       "      <td>6083.27</td>\n",
       "      <td>16864.48</td>\n",
       "      <td>101.0</td>\n",
       "      <td>1299.0</td>\n",
       "      <td>3100.0</td>\n",
       "      <td>7499.0</td>\n",
       "      <td>2995000.0</td>\n",
       "    </tr>\n",
       "    <tr>\n",
       "      <th>test</th>\n",
       "      <td>182845.0</td>\n",
       "      <td>6160.32</td>\n",
       "      <td>19649.56</td>\n",
       "      <td>101.0</td>\n",
       "      <td>1299.0</td>\n",
       "      <td>3100.0</td>\n",
       "      <td>7499.0</td>\n",
       "      <td>3895000.0</td>\n",
       "    </tr>\n",
       "  </tbody>\n",
       "</table>\n",
       "</div>"
      ],
      "text/plain": [
       "            count     mean       std    min     25%     50%     75%        max\n",
       "abtest                                                                        \n",
       "control  170134.0  6083.27  16864.48  101.0  1299.0  3100.0  7499.0  2995000.0\n",
       "test     182845.0  6160.32  19649.56  101.0  1299.0  3100.0  7499.0  3895000.0"
      ]
     },
     "execution_count": 149,
     "metadata": {},
     "output_type": "execute_result"
    }
   ],
   "source": [
    "df.groupby('abtest')['price'].describe().round(2)"
   ]
  },
  {
   "cell_type": "markdown",
   "metadata": {},
   "source": [
    "Los tamaños de los grupos son muy parecidos y la mediana del precio para cada grupo es idéntica, al igual que los cuartiles. La media y la desviación están afectadas por valores atípicos por lo que las diferencias no son demasiado relevantes.\n",
    "\n",
    "Concluimos que también podemos prescindir de esta columna."
   ]
  },
  {
   "cell_type": "code",
   "execution_count": 150,
   "metadata": {},
   "outputs": [],
   "source": [
    "df.drop(columns='abtest', inplace=True)"
   ]
  },
  {
   "cell_type": "markdown",
   "metadata": {},
   "source": [
    "---"
   ]
  },
  {
   "cell_type": "markdown",
   "metadata": {},
   "source": [
    "### `vehicleType`"
   ]
  },
  {
   "cell_type": "code",
   "execution_count": 151,
   "metadata": {},
   "outputs": [
    {
     "data": {
      "text/plain": [
       "array([nan, 'coupe', 'suv', 'small car', 'convertible', 'bus', 'combi',\n",
       "       'other'], dtype=object)"
      ]
     },
     "execution_count": 151,
     "metadata": {},
     "output_type": "execute_result"
    }
   ],
   "source": [
    "df['vehicleType'].unique()"
   ]
  },
  {
   "cell_type": "markdown",
   "metadata": {},
   "source": [
    "We start converting `nan` to `unknown`"
   ]
  },
  {
   "cell_type": "code",
   "execution_count": 152,
   "metadata": {},
   "outputs": [],
   "source": [
    "df['vehicleType'].fillna('unkonwn', inplace=True)"
   ]
  },
  {
   "cell_type": "code",
   "execution_count": 153,
   "metadata": {},
   "outputs": [
    {
     "data": {
      "text/plain": [
       "vehicleType\n",
       "unkonwn        124604\n",
       "small car       76392\n",
       "combi           64925\n",
       "bus             29298\n",
       "convertible     22324\n",
       "coupe           18233\n",
       "suv             14117\n",
       "other            3086\n",
       "Name: count, dtype: int64"
      ]
     },
     "execution_count": 153,
     "metadata": {},
     "output_type": "execute_result"
    }
   ],
   "source": [
    "df['vehicleType'].value_counts()"
   ]
  },
  {
   "cell_type": "code",
   "execution_count": 154,
   "metadata": {},
   "outputs": [
    {
     "data": {
      "image/png": "[encoded data removed]",
      "text/plain": [
       "<Figure size 800x400 with 1 Axes>"
      ]
     },
     "metadata": {},
     "output_type": "display_data"
    }
   ],
   "source": [
    "count_plot(df, 'vehicleType')"
   ]
  },
  {
   "cell_type": "markdown",
   "metadata": {},
   "source": [
    "Quick insights:\n",
    "\n",
    "* `small car` are compact and practical, dominating the market due to their affordability and suitability for city driving. \n",
    "\n",
    "* `combis` are versatile family vehicles, popular for their space and functionality. \n",
    "\n",
    "* `bus` serve collective transportation needs with moderate demand. \n",
    "\n",
    "* `convertible` and `coupe` cater to style and leisure enthusiasts, while `suv` appeal to those needing space and off-road capability. \n",
    "\n",
    "* `other` vehicles may represent niche or specialized types with limited presence. \n",
    "\n",
    "* `unkonwn` vehicles represent vehicles with no category information. \n",
    "\n",
    "Overall, practicality and versatility drive the majority of demand."
   ]
  },
  {
   "cell_type": "markdown",
   "metadata": {},
   "source": [
    "---"
   ]
  },
  {
   "cell_type": "markdown",
   "metadata": {},
   "source": [
    "### `gearbox`"
   ]
  },
  {
   "cell_type": "code",
   "execution_count": 106,
   "metadata": {},
   "outputs": [
    {
     "data": {
      "text/plain": [
       "array(['manually', 'automatic', nan], dtype=object)"
      ]
     },
     "execution_count": 106,
     "metadata": {},
     "output_type": "execute_result"
    }
   ],
   "source": [
    "df['gearbox'].unique()"
   ]
  },
  {
   "cell_type": "markdown",
   "metadata": {},
   "source": [
    "We start converting `nan` to `unknown`"
   ]
  },
  {
   "cell_type": "code",
   "execution_count": 155,
   "metadata": {},
   "outputs": [],
   "source": [
    "df['gearbox'].fillna('unkonwn', inplace=True)"
   ]
  },
  {
   "cell_type": "code",
   "execution_count": 156,
   "metadata": {},
   "outputs": [
    {
     "data": {
      "text/plain": [
       "gearbox\n",
       "manually     262574\n",
       "automatic     74184\n",
       "unkonwn       16221\n",
       "Name: count, dtype: int64"
      ]
     },
     "execution_count": 156,
     "metadata": {},
     "output_type": "execute_result"
    }
   ],
   "source": [
    "df['gearbox'].value_counts()"
   ]
  },
  {
   "cell_type": "code",
   "execution_count": 161,
   "metadata": {},
   "outputs": [
    {
     "data": {
      "image/png": "[encoded data removed]",
      "text/plain": [
       "<Figure size 500x400 with 1 Axes>"
      ]
     },
     "metadata": {},
     "output_type": "display_data"
    }
   ],
   "source": [
    "count_plot(df, 'gearbox', size=(5, 4))"
   ]
  },
  {
   "cell_type": "markdown",
   "metadata": {},
   "source": [
    "Los vehículos con transmisión manual dominan sobre los automáticos lo que revela que es la opción más popular en el mercado, especialmente en los vehículos de segunda mano."
   ]
  },
  {
   "cell_type": "markdown",
   "metadata": {},
   "source": [
    "---"
   ]
  },
  {
   "cell_type": "markdown",
   "metadata": {},
   "source": [
    "### `fuelType`"
   ]
  },
  {
   "cell_type": "code",
   "execution_count": 164,
   "metadata": {},
   "outputs": [
    {
     "data": {
      "text/plain": [
       "array(['petrol', 'diesel', nan, 'lpg', 'other', 'hybrid', 'cng',\n",
       "       'electro'], dtype=object)"
      ]
     },
     "execution_count": 164,
     "metadata": {},
     "output_type": "execute_result"
    }
   ],
   "source": [
    "df['fuelType'].unique()"
   ]
  },
  {
   "cell_type": "markdown",
   "metadata": {},
   "source": [
    "We start converting `nan` to `unknown`"
   ]
  },
  {
   "cell_type": "code",
   "execution_count": 165,
   "metadata": {},
   "outputs": [],
   "source": [
    "df['fuelType'].fillna('unkonwn', inplace=True)"
   ]
  },
  {
   "cell_type": "code",
   "execution_count": 166,
   "metadata": {},
   "outputs": [
    {
     "data": {
      "text/plain": [
       "fuelType\n",
       "petrol     214353\n",
       "diesel     104044\n",
       "unkonwn     28338\n",
       "lpg          5172\n",
       "cng           549\n",
       "hybrid        268\n",
       "other         156\n",
       "electro        99\n",
       "Name: count, dtype: int64"
      ]
     },
     "execution_count": 166,
     "metadata": {},
     "output_type": "execute_result"
    }
   ],
   "source": [
    "df['fuelType'].value_counts()"
   ]
  },
  {
   "cell_type": "code",
   "execution_count": 170,
   "metadata": {},
   "outputs": [
    {
     "data": {
      "image/png": "[encoded data removed]",
      "text/plain": [
       "<Figure size 800x400 with 1 Axes>"
      ]
     },
     "metadata": {},
     "output_type": "display_data"
    }
   ],
   "source": [
    "count_plot(df, 'fuelType')"
   ]
  },
  {
   "cell_type": "markdown",
   "metadata": {},
   "source": [
    "`petrol` y `diesel` son las opciones más populares. Esto tiene sentido especialmente en el mercado de segunda mano ya que tecnologías `hybrid`o `electro` son más novedosas y llevan menos tiempo en el mercado"
   ]
  },
  {
   "cell_type": "markdown",
   "metadata": {},
   "source": [
    "---"
   ]
  },
  {
   "cell_type": "markdown",
   "metadata": {},
   "source": [
    "Filtro para nuestro caso de negocio.\n",
    "\n",
    "Venta coches de segunda mano listos para utilizar y asequibles. Tienen etiqueta B, C, eco o zero"
   ]
  },
  {
   "cell_type": "markdown",
   "metadata": {},
   "source": []
  }
 ],
 "metadata": {
  "kernelspec": {
   "display_name": "proyecto7",
   "language": "python",
   "name": "python3"
  },
  "language_info": {
   "codemirror_mode": {
    "name": "ipython",
    "version": 3
   },
   "file_extension": ".py",
   "mimetype": "text/x-python",
   "name": "python",
   "nbconvert_exporter": "python",
   "pygments_lexer": "ipython3",
   "version": "3.12.7"
  }
 },
 "nbformat": 4,
 "nbformat_minor": 2
}
