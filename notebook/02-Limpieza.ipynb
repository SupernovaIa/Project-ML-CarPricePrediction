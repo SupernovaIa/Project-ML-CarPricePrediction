{
 "cells": [
  {
   "cell_type": "markdown",
   "metadata": {},
   "source": [
    "## Importación de librerías"
   ]
  },
  {
   "cell_type": "code",
   "execution_count": 28,
   "metadata": {},
   "outputs": [],
   "source": [
    "# Data processing  \n",
    "# -----------------------------------------------------------------------  \n",
    "import numpy as np  \n",
    "import pandas as pd  \n",
    "\n",
    "# Other objectives  \n",
    "# -----------------------------------------------------------------------  \n",
    "import math  \n",
    "\n",
    "# Graphics  \n",
    "# -----------------------------------------------------------------------  \n",
    "import seaborn as sns  \n",
    "import matplotlib.pyplot as plt  \n",
    "\n",
    "# Path configuration for custom module imports  \n",
    "# -----------------------------------------------------------------------  \n",
    "import sys  \n",
    "sys.path.append('../')  # Adds the parent directory to the path for custom module imports  \n",
    "\n",
    "# Ignore warnings  \n",
    "# -----------------------------------------------------------------------  \n",
    "import warnings  \n",
    "warnings.filterwarnings(\"ignore\") \n",
    "\n",
    "# Curstom functions \n",
    "# ----------------------------------------------------------------------- \n",
    "from src.support_eda import plot_categoric_distribution, plot_correlation_matrix, plot_numeric_distribution, plot_relation_tv_numeric, plot_outliers  "
   ]
  },
  {
   "cell_type": "markdown",
   "metadata": {},
   "source": [
    "## Carga de datos"
   ]
  },
  {
   "cell_type": "code",
   "execution_count": 29,
   "metadata": {},
   "outputs": [],
   "source": [
    "df = pd.read_csv('../data/raw/autorenew.csv', parse_dates=['dateCrawled', 'dateCreated', 'lastSeen'])"
   ]
  },
  {
   "cell_type": "code",
   "execution_count": 30,
   "metadata": {},
   "outputs": [
    {
     "data": {
      "text/html": [
       "<div>\n",
       "<style scoped>\n",
       "    .dataframe tbody tr th:only-of-type {\n",
       "        vertical-align: middle;\n",
       "    }\n",
       "\n",
       "    .dataframe tbody tr th {\n",
       "        vertical-align: top;\n",
       "    }\n",
       "\n",
       "    .dataframe thead th {\n",
       "        text-align: right;\n",
       "    }\n",
       "</style>\n",
       "<table border=\"1\" class=\"dataframe\">\n",
       "  <thead>\n",
       "    <tr style=\"text-align: right;\">\n",
       "      <th></th>\n",
       "      <th>dateCrawled</th>\n",
       "      <th>name</th>\n",
       "      <th>seller</th>\n",
       "      <th>offerType</th>\n",
       "      <th>price</th>\n",
       "      <th>vehicleType</th>\n",
       "      <th>yearOfRegistration</th>\n",
       "      <th>gearbox</th>\n",
       "      <th>powerCV</th>\n",
       "      <th>model</th>\n",
       "      <th>kilometer</th>\n",
       "      <th>monthOfRegistration</th>\n",
       "      <th>fuelType</th>\n",
       "      <th>brand</th>\n",
       "      <th>notRepairedDamage</th>\n",
       "      <th>dateCreated</th>\n",
       "      <th>nrOfPictures</th>\n",
       "      <th>postalCode</th>\n",
       "      <th>lastSeen</th>\n",
       "    </tr>\n",
       "  </thead>\n",
       "  <tbody>\n",
       "    <tr>\n",
       "      <th>0</th>\n",
       "      <td>2016-03-24 11:52:17</td>\n",
       "      <td>Golf_3_1.6</td>\n",
       "      <td>private</td>\n",
       "      <td>offer</td>\n",
       "      <td>480</td>\n",
       "      <td>NaN</td>\n",
       "      <td>1993</td>\n",
       "      <td>manually</td>\n",
       "      <td>0.0</td>\n",
       "      <td>golf</td>\n",
       "      <td>150000</td>\n",
       "      <td>0</td>\n",
       "      <td>petrol</td>\n",
       "      <td>volkswagen</td>\n",
       "      <td>NaN</td>\n",
       "      <td>2016-03-24</td>\n",
       "      <td>0</td>\n",
       "      <td>70435</td>\n",
       "      <td>2016-04-07 03:16:57</td>\n",
       "    </tr>\n",
       "    <tr>\n",
       "      <th>1</th>\n",
       "      <td>2016-03-24 10:58:45</td>\n",
       "      <td>A5_Sportback_2.7_Tdi</td>\n",
       "      <td>private</td>\n",
       "      <td>offer</td>\n",
       "      <td>18300</td>\n",
       "      <td>coupe</td>\n",
       "      <td>2011</td>\n",
       "      <td>manually</td>\n",
       "      <td>187.0</td>\n",
       "      <td>NaN</td>\n",
       "      <td>125000</td>\n",
       "      <td>5</td>\n",
       "      <td>diesel</td>\n",
       "      <td>audi</td>\n",
       "      <td>yes</td>\n",
       "      <td>2016-03-24</td>\n",
       "      <td>0</td>\n",
       "      <td>66954</td>\n",
       "      <td>2016-04-07 01:46:50</td>\n",
       "    </tr>\n",
       "    <tr>\n",
       "      <th>2</th>\n",
       "      <td>2016-03-14 12:52:21</td>\n",
       "      <td>Jeep_Grand_Cherokee_\"Overland\"</td>\n",
       "      <td>private</td>\n",
       "      <td>offer</td>\n",
       "      <td>9800</td>\n",
       "      <td>suv</td>\n",
       "      <td>2004</td>\n",
       "      <td>automatic</td>\n",
       "      <td>161.0</td>\n",
       "      <td>grand</td>\n",
       "      <td>125000</td>\n",
       "      <td>8</td>\n",
       "      <td>diesel</td>\n",
       "      <td>jeep</td>\n",
       "      <td>NaN</td>\n",
       "      <td>2016-03-14</td>\n",
       "      <td>0</td>\n",
       "      <td>90480</td>\n",
       "      <td>2016-04-05 12:47:46</td>\n",
       "    </tr>\n",
       "    <tr>\n",
       "      <th>3</th>\n",
       "      <td>2016-03-17 16:54:04</td>\n",
       "      <td>GOLF_4_1_4__3TÜRER</td>\n",
       "      <td>private</td>\n",
       "      <td>offer</td>\n",
       "      <td>1500</td>\n",
       "      <td>small car</td>\n",
       "      <td>2001</td>\n",
       "      <td>manually</td>\n",
       "      <td>74.0</td>\n",
       "      <td>golf</td>\n",
       "      <td>150000</td>\n",
       "      <td>6</td>\n",
       "      <td>petrol</td>\n",
       "      <td>volkswagen</td>\n",
       "      <td>no</td>\n",
       "      <td>2016-03-17</td>\n",
       "      <td>0</td>\n",
       "      <td>91074</td>\n",
       "      <td>2016-03-17 17:40:17</td>\n",
       "    </tr>\n",
       "    <tr>\n",
       "      <th>4</th>\n",
       "      <td>2016-03-31 17:25:20</td>\n",
       "      <td>Skoda_Fabia_1.4_TDI_PD_Classic</td>\n",
       "      <td>private</td>\n",
       "      <td>offer</td>\n",
       "      <td>3600</td>\n",
       "      <td>small car</td>\n",
       "      <td>2008</td>\n",
       "      <td>manually</td>\n",
       "      <td>68.0</td>\n",
       "      <td>fabia</td>\n",
       "      <td>90000</td>\n",
       "      <td>7</td>\n",
       "      <td>diesel</td>\n",
       "      <td>skoda</td>\n",
       "      <td>no</td>\n",
       "      <td>2016-03-31</td>\n",
       "      <td>0</td>\n",
       "      <td>60437</td>\n",
       "      <td>2016-04-06 10:17:21</td>\n",
       "    </tr>\n",
       "  </tbody>\n",
       "</table>\n",
       "</div>"
      ],
      "text/plain": [
       "          dateCrawled                            name   seller offerType  \\\n",
       "0 2016-03-24 11:52:17                      Golf_3_1.6  private     offer   \n",
       "1 2016-03-24 10:58:45            A5_Sportback_2.7_Tdi  private     offer   \n",
       "2 2016-03-14 12:52:21  Jeep_Grand_Cherokee_\"Overland\"  private     offer   \n",
       "3 2016-03-17 16:54:04              GOLF_4_1_4__3TÜRER  private     offer   \n",
       "4 2016-03-31 17:25:20  Skoda_Fabia_1.4_TDI_PD_Classic  private     offer   \n",
       "\n",
       "   price vehicleType  yearOfRegistration    gearbox  powerCV  model  \\\n",
       "0    480         NaN                1993   manually      0.0   golf   \n",
       "1  18300       coupe                2011   manually    187.0    NaN   \n",
       "2   9800         suv                2004  automatic    161.0  grand   \n",
       "3   1500   small car                2001   manually     74.0   golf   \n",
       "4   3600   small car                2008   manually     68.0  fabia   \n",
       "\n",
       "   kilometer  monthOfRegistration fuelType       brand notRepairedDamage  \\\n",
       "0     150000                    0   petrol  volkswagen               NaN   \n",
       "1     125000                    5   diesel        audi               yes   \n",
       "2     125000                    8   diesel        jeep               NaN   \n",
       "3     150000                    6   petrol  volkswagen                no   \n",
       "4      90000                    7   diesel       skoda                no   \n",
       "\n",
       "  dateCreated  nrOfPictures  postalCode            lastSeen  \n",
       "0  2016-03-24             0       70435 2016-04-07 03:16:57  \n",
       "1  2016-03-24             0       66954 2016-04-07 01:46:50  \n",
       "2  2016-03-14             0       90480 2016-04-05 12:47:46  \n",
       "3  2016-03-17             0       91074 2016-03-17 17:40:17  \n",
       "4  2016-03-31             0       60437 2016-04-06 10:17:21  "
      ]
     },
     "execution_count": 30,
     "metadata": {},
     "output_type": "execute_result"
    }
   ],
   "source": [
    "df.head()"
   ]
  },
  {
   "cell_type": "markdown",
   "metadata": {},
   "source": [
    "### Selección de columnas"
   ]
  },
  {
   "cell_type": "markdown",
   "metadata": {},
   "source": [
    "Vamos a eliminar columnas que no nos aporten información relevante:\n",
    "\n",
    "* `dateCrawled`, `dateCreated`, `lastSeen`: En el EDA preliminar habíamos visto que los anuncios son de entre 2014 y 2016 y que más allá de eso no nos aporta más información.\n",
    "\n",
    "* `seller`: Todos los valores son `private` salvo 3 entradas, que son `commercial`. Vamos a eliminar directamente la columna.\n",
    "\n",
    "* `offerType`: De igual forma, todos los valores son `offer` salvo 12 entradas, que son `request`. Podemos eliminar la columna y los vehículos que son `request`.\n",
    "\n",
    "* `model`: Tenemos más de 250 entradas y es una subcategoría de `brand`. Podríamos dejarla para un análisis más granular pero ahora vamos a eliminarla.\n",
    "\n",
    "* `monthOfRegistration`: Podríamos hacer un análisis de estacionalidad o por temporadas, pero no será el caso. Además, hay un valor que es 0, lo cual es imposible para meses por lo que realmente sería desconocido. Utilizaremos solamente `yearOfRegistration`.\n",
    "\n",
    "* `nrOfPictures`: Todos los valores son 0 por lo que no aporta valor.\n",
    "\n",
    "* `postalCode`: Esta variable corresponde a códigos postales y podría tratarse como categórica. Sin embargo, no nos aporta mucha información que nos resulte útil, por ello decidimos eliminarla."
   ]
  },
  {
   "cell_type": "code",
   "execution_count": 31,
   "metadata": {},
   "outputs": [],
   "source": [
    "columnas_eliminar = [\n",
    "    'dateCrawled',\n",
    "    'dateCreated', \n",
    "    'lastSeen',\n",
    "    'seller', \n",
    "    'offerType', \n",
    "    'model', \n",
    "    'monthOfRegistration', \n",
    "    'nrOfPictures',\n",
    "    'postalCode'\n",
    "    ]"
   ]
  },
  {
   "cell_type": "code",
   "execution_count": 32,
   "metadata": {},
   "outputs": [],
   "source": [
    "df.drop(columns=columnas_eliminar, inplace=True)"
   ]
  },
  {
   "cell_type": "markdown",
   "metadata": {},
   "source": [
    "## Limpieza de datos"
   ]
  },
  {
   "cell_type": "markdown",
   "metadata": {},
   "source": [
    "Vayamos columna a columna"
   ]
  },
  {
   "cell_type": "code",
   "execution_count": 33,
   "metadata": {},
   "outputs": [
    {
     "data": {
      "text/plain": [
       "['name',\n",
       " 'price',\n",
       " 'vehicleType',\n",
       " 'yearOfRegistration',\n",
       " 'gearbox',\n",
       " 'powerCV',\n",
       " 'kilometer',\n",
       " 'fuelType',\n",
       " 'brand',\n",
       " 'notRepairedDamage']"
      ]
     },
     "execution_count": 33,
     "metadata": {},
     "output_type": "execute_result"
    }
   ],
   "source": [
    "df.columns.to_list()"
   ]
  },
  {
   "cell_type": "markdown",
   "metadata": {},
   "source": [
    "### Columna `price`"
   ]
  },
  {
   "cell_type": "markdown",
   "metadata": {},
   "source": [
    "Valores de precio extremadamente bajos no tienen sentido. Sin embargo, es difícil establecer un criterio estricto para filtrar ya que vehículos muy antiguos o con daños realmente pueden tener precios muy bajos."
   ]
  },
  {
   "cell_type": "code",
   "execution_count": 34,
   "metadata": {},
   "outputs": [
    {
     "name": "stdout",
     "output_type": "stream",
     "text": [
      "El porcentaje de valores nulos en la columna price es: 0\n"
     ]
    }
   ],
   "source": [
    "print(f\"El porcentaje de valores nulos en la columna price es: {df['price'].isna().sum()}\")"
   ]
  },
  {
   "cell_type": "markdown",
   "metadata": {},
   "source": [
    "Como no teníamos valores nulos, veamos qué proporción de vehículos tienen un valor inferior a cierto umbral. Podemos elegir el umbral por ejemplo en 100 (presumiblemente euros)."
   ]
  },
  {
   "cell_type": "code",
   "execution_count": 35,
   "metadata": {},
   "outputs": [
    {
     "name": "stdout",
     "output_type": "stream",
     "text": [
      "El porcentaje de vehículos por debajo de 100 es: 3.59\n"
     ]
    }
   ],
   "source": [
    "umbral_precio_inferior = 100\n",
    "porcentaje_baratos = (df['price'] < umbral_precio_inferior).mean() * 100\n",
    "\n",
    "print(f\"El porcentaje de vehículos por debajo de {umbral_precio_inferior} es: {porcentaje_baratos:.2f}\")"
   ]
  },
  {
   "cell_type": "markdown",
   "metadata": {},
   "source": [
    "Los datos con un precio inferior a 100 son muy probablemente erróneos y representan alrededor del 3,6 % del conjunto de datos, por lo que parece razonable eliminarlos.  \n",
    "\n",
    "Es posible que haya vehículos que realmente tengan un precio por debajo de 100 debido a daños no reparados o a su antigüedad, pero es difícil establecer este criterio, así que procederemos de esta manera."
   ]
  },
  {
   "cell_type": "markdown",
   "metadata": {},
   "source": [
    "Veamos ahora qué sucede con los vehículos con un precio muy elevado. Pongamos el umbral en 4M."
   ]
  },
  {
   "cell_type": "code",
   "execution_count": 36,
   "metadata": {},
   "outputs": [
    {
     "name": "stdout",
     "output_type": "stream",
     "text": [
      "El porcentaje de vehículos por encima de 4000000.0 es: 0.01\n"
     ]
    }
   ],
   "source": [
    "umbral_precio_superior = 4e6\n",
    "porcentaje_caros = (df['price'] > umbral_precio_superior).mean() * 100\n",
    "\n",
    "print(f\"El porcentaje de vehículos por encima de {umbral_precio_superior} es: {porcentaje_caros:.2f}\")"
   ]
  },
  {
   "cell_type": "markdown",
   "metadata": {},
   "source": [
    "Podemos revisar manualmente estos datos para comprobar si tienen sentido:"
   ]
  },
  {
   "cell_type": "code",
   "execution_count": 37,
   "metadata": {},
   "outputs": [
    {
     "data": {
      "text/html": [
       "<div>\n",
       "<style scoped>\n",
       "    .dataframe tbody tr th:only-of-type {\n",
       "        vertical-align: middle;\n",
       "    }\n",
       "\n",
       "    .dataframe tbody tr th {\n",
       "        vertical-align: top;\n",
       "    }\n",
       "\n",
       "    .dataframe thead th {\n",
       "        text-align: right;\n",
       "    }\n",
       "</style>\n",
       "<table border=\"1\" class=\"dataframe\">\n",
       "  <thead>\n",
       "    <tr style=\"text-align: right;\">\n",
       "      <th></th>\n",
       "      <th>name</th>\n",
       "      <th>price</th>\n",
       "      <th>vehicleType</th>\n",
       "      <th>yearOfRegistration</th>\n",
       "      <th>gearbox</th>\n",
       "      <th>powerCV</th>\n",
       "      <th>kilometer</th>\n",
       "      <th>fuelType</th>\n",
       "      <th>brand</th>\n",
       "      <th>notRepairedDamage</th>\n",
       "    </tr>\n",
       "  </thead>\n",
       "  <tbody>\n",
       "    <tr>\n",
       "      <th>77520</th>\n",
       "      <td>Tausch_gegen_gleichwertiges</td>\n",
       "      <td>99999999</td>\n",
       "      <td>NaN</td>\n",
       "      <td>1999</td>\n",
       "      <td>automatic</td>\n",
       "      <td>221.0</td>\n",
       "      <td>150000</td>\n",
       "      <td>petrol</td>\n",
       "      <td>mercedes_benz</td>\n",
       "      <td>NaN</td>\n",
       "    </tr>\n",
       "    <tr>\n",
       "      <th>361451</th>\n",
       "      <td>Hilfe_Hilfe_Hilfe</td>\n",
       "      <td>10010011</td>\n",
       "      <td>NaN</td>\n",
       "      <td>2000</td>\n",
       "      <td>NaN</td>\n",
       "      <td>0.0</td>\n",
       "      <td>150000</td>\n",
       "      <td>NaN</td>\n",
       "      <td>sonstige_autos</td>\n",
       "      <td>NaN</td>\n",
       "    </tr>\n",
       "    <tr>\n",
       "      <th>338415</th>\n",
       "      <td>Polo_6n_gti__Zustand_egal_</td>\n",
       "      <td>11111111</td>\n",
       "      <td>NaN</td>\n",
       "      <td>2000</td>\n",
       "      <td>NaN</td>\n",
       "      <td>118.0</td>\n",
       "      <td>125000</td>\n",
       "      <td>petrol</td>\n",
       "      <td>volkswagen</td>\n",
       "      <td>NaN</td>\n",
       "    </tr>\n",
       "    <tr>\n",
       "      <th>279937</th>\n",
       "      <td>Mercedes_Benz_CLK_Coupe_280_7G_TRONIC_Sport_Av...</td>\n",
       "      <td>14000500</td>\n",
       "      <td>coupe</td>\n",
       "      <td>2008</td>\n",
       "      <td>automatic</td>\n",
       "      <td>228.0</td>\n",
       "      <td>125000</td>\n",
       "      <td>petrol</td>\n",
       "      <td>mercedes_benz</td>\n",
       "      <td>no</td>\n",
       "    </tr>\n",
       "    <tr>\n",
       "      <th>196306</th>\n",
       "      <td>Suche_Motorcross_.!</td>\n",
       "      <td>10000000</td>\n",
       "      <td>NaN</td>\n",
       "      <td>2017</td>\n",
       "      <td>manually</td>\n",
       "      <td>0.0</td>\n",
       "      <td>5000</td>\n",
       "      <td>petrol</td>\n",
       "      <td>volkswagen</td>\n",
       "      <td>NaN</td>\n",
       "    </tr>\n",
       "  </tbody>\n",
       "</table>\n",
       "</div>"
      ],
      "text/plain": [
       "                                                     name     price  \\\n",
       "77520                         Tausch_gegen_gleichwertiges  99999999   \n",
       "361451                                  Hilfe_Hilfe_Hilfe  10010011   \n",
       "338415                         Polo_6n_gti__Zustand_egal_  11111111   \n",
       "279937  Mercedes_Benz_CLK_Coupe_280_7G_TRONIC_Sport_Av...  14000500   \n",
       "196306                                Suche_Motorcross_.!  10000000   \n",
       "\n",
       "       vehicleType  yearOfRegistration    gearbox  powerCV  kilometer  \\\n",
       "77520          NaN                1999  automatic    221.0     150000   \n",
       "361451         NaN                2000        NaN      0.0     150000   \n",
       "338415         NaN                2000        NaN    118.0     125000   \n",
       "279937       coupe                2008  automatic    228.0     125000   \n",
       "196306         NaN                2017   manually      0.0       5000   \n",
       "\n",
       "       fuelType           brand notRepairedDamage  \n",
       "77520    petrol   mercedes_benz               NaN  \n",
       "361451      NaN  sonstige_autos               NaN  \n",
       "338415   petrol      volkswagen               NaN  \n",
       "279937   petrol   mercedes_benz                no  \n",
       "196306   petrol      volkswagen               NaN  "
      ]
     },
     "execution_count": 37,
     "metadata": {},
     "output_type": "execute_result"
    }
   ],
   "source": [
    "df[df['price'] > umbral_precio_superior].sample(5)"
   ]
  },
  {
   "cell_type": "markdown",
   "metadata": {},
   "source": [
    "Tras revisar los datos, podemos concluir que todos los precios superiores a 4 millones corresponden a registros erróneos."
   ]
  },
  {
   "cell_type": "markdown",
   "metadata": {},
   "source": [
    "Por lo tanto, filtramos los datos por precios de esta forma:"
   ]
  },
  {
   "cell_type": "code",
   "execution_count": 38,
   "metadata": {},
   "outputs": [],
   "source": [
    "filtro_precio = (df['price'] > umbral_precio_inferior) & (df['price'] < umbral_precio_superior)\n",
    "\n",
    "df = df[filtro_precio]"
   ]
  },
  {
   "cell_type": "markdown",
   "metadata": {},
   "source": [
    "### Columna `yearOfRegistration`"
   ]
  },
  {
   "cell_type": "markdown",
   "metadata": {},
   "source": [
    "Tal y como vimos con las columnas de fechas de los anuncios, los registros no pueden ser de después de 2016. Sin embargo, vamos a comprobar las entradas posteriores a este año"
   ]
  },
  {
   "cell_type": "code",
   "execution_count": 39,
   "metadata": {},
   "outputs": [
    {
     "data": {
      "text/plain": [
       "yearOfRegistration\n",
       "2017    9925\n",
       "2018    3797\n",
       "2019      15\n",
       "9999      14\n",
       "5000      14\n",
       "Name: count, dtype: int64"
      ]
     },
     "execution_count": 39,
     "metadata": {},
     "output_type": "execute_result"
    }
   ],
   "source": [
    "df[df['yearOfRegistration'] > 2016]['yearOfRegistration'].value_counts().head()"
   ]
  },
  {
   "cell_type": "markdown",
   "metadata": {},
   "source": [
    "Vemos que hay unas cuantas entradas en 2017 y 2018, por lo que vamos a mantenerlas ya que es posible que las columnas de fechas que habíamos eliminado posiblemente fuesen las que estaban mal.\n",
    "\n",
    "El resto de años son mucho menos frecuentes y la mayoría no tienen sentido por lo que podemos asumir que son errores y eliminarlos o etiquetarlos como nulos."
   ]
  },
  {
   "cell_type": "markdown",
   "metadata": {},
   "source": [
    "Veamos ahora qué ocurre con vehículos con fechas de registro muy antiguas. Por ejemplo, establezcamos el umbral en 1930."
   ]
  },
  {
   "cell_type": "code",
   "execution_count": 40,
   "metadata": {},
   "outputs": [
    {
     "data": {
      "text/plain": [
       "yearOfRegistration\n",
       "1910    36\n",
       "1000    23\n",
       "1937    12\n",
       "1938     8\n",
       "1929     7\n",
       "Name: count, dtype: int64"
      ]
     },
     "execution_count": 40,
     "metadata": {},
     "output_type": "execute_result"
    }
   ],
   "source": [
    "umbral_fecha = 1950\n",
    "\n",
    "df[df['yearOfRegistration'] < umbral_fecha]['yearOfRegistration'].value_counts().head()"
   ]
  },
  {
   "cell_type": "markdown",
   "metadata": {},
   "source": [
    "Vemos que tenemos 36 entradas de 1910, que seguramente sean errores (por la fecha de invención del coche). Veamos la distribución de forma gráfica más detallada."
   ]
  },
  {
   "cell_type": "code",
   "execution_count": 41,
   "metadata": {},
   "outputs": [
    {
     "data": {
      "image/png": "[encoded data removed]",
      "text/plain": [
       "<Figure size 800x400 with 1 Axes>"
      ]
     },
     "metadata": {},
     "output_type": "display_data"
    }
   ],
   "source": [
    "plt.figure(figsize=(8, 4))\n",
    "\n",
    "sns.histplot(df['yearOfRegistration'], bins=20, binrange=(1900, 1970))\n",
    "plt.show()"
   ]
  },
  {
   "cell_type": "code",
   "execution_count": 42,
   "metadata": {},
   "outputs": [
    {
     "data": {
      "image/png": "[encoded data removed]",
      "text/plain": [
       "<Figure size 800x400 with 1 Axes>"
      ]
     },
     "metadata": {},
     "output_type": "display_data"
    }
   ],
   "source": [
    "plt.figure(figsize=(8, 4))\n",
    "\n",
    "sns.histplot(df['yearOfRegistration'], bins=20, binrange=(umbral_fecha, 2019))\n",
    "plt.show()"
   ]
  },
  {
   "cell_type": "markdown",
   "metadata": {},
   "source": [
    "Podemos examinar individualmente las entradas de vehículos más antiguos para ver si genuinamente son errores"
   ]
  },
  {
   "cell_type": "code",
   "execution_count": 43,
   "metadata": {},
   "outputs": [
    {
     "data": {
      "text/html": [
       "<div>\n",
       "<style scoped>\n",
       "    .dataframe tbody tr th:only-of-type {\n",
       "        vertical-align: middle;\n",
       "    }\n",
       "\n",
       "    .dataframe tbody tr th {\n",
       "        vertical-align: top;\n",
       "    }\n",
       "\n",
       "    .dataframe thead th {\n",
       "        text-align: right;\n",
       "    }\n",
       "</style>\n",
       "<table border=\"1\" class=\"dataframe\">\n",
       "  <thead>\n",
       "    <tr style=\"text-align: right;\">\n",
       "      <th></th>\n",
       "      <th>name</th>\n",
       "      <th>price</th>\n",
       "      <th>vehicleType</th>\n",
       "      <th>yearOfRegistration</th>\n",
       "      <th>gearbox</th>\n",
       "      <th>powerCV</th>\n",
       "      <th>kilometer</th>\n",
       "      <th>fuelType</th>\n",
       "      <th>brand</th>\n",
       "      <th>notRepairedDamage</th>\n",
       "    </tr>\n",
       "  </thead>\n",
       "  <tbody>\n",
       "    <tr>\n",
       "      <th>230289</th>\n",
       "      <td>***Mercedes_W_143__230_Sonnenschein_Limousine***</td>\n",
       "      <td>111111</td>\n",
       "      <td>NaN</td>\n",
       "      <td>1939</td>\n",
       "      <td>manually</td>\n",
       "      <td>57.0</td>\n",
       "      <td>5000</td>\n",
       "      <td>petrol</td>\n",
       "      <td>mercedes_benz</td>\n",
       "      <td>yes</td>\n",
       "    </tr>\n",
       "    <tr>\n",
       "      <th>352421</th>\n",
       "      <td>BMW_DIXI_OLDTIMER</td>\n",
       "      <td>20000</td>\n",
       "      <td>coupe</td>\n",
       "      <td>1929</td>\n",
       "      <td>manually</td>\n",
       "      <td>12.0</td>\n",
       "      <td>10000</td>\n",
       "      <td>petrol</td>\n",
       "      <td>bmw</td>\n",
       "      <td>NaN</td>\n",
       "    </tr>\n",
       "    <tr>\n",
       "      <th>198973</th>\n",
       "      <td>VW_Kaefer.__Zwei_zum_Preis_von_einem.</td>\n",
       "      <td>1500</td>\n",
       "      <td>NaN</td>\n",
       "      <td>1000</td>\n",
       "      <td>manually</td>\n",
       "      <td>0.0</td>\n",
       "      <td>5000</td>\n",
       "      <td>petrol</td>\n",
       "      <td>volkswagen</td>\n",
       "      <td>NaN</td>\n",
       "    </tr>\n",
       "    <tr>\n",
       "      <th>284505</th>\n",
       "      <td>Oldtimer_Opel_Kadett_K38__seltener_4_tuerer__S...</td>\n",
       "      <td>5000</td>\n",
       "      <td>NaN</td>\n",
       "      <td>1938</td>\n",
       "      <td>manually</td>\n",
       "      <td>0.0</td>\n",
       "      <td>5000</td>\n",
       "      <td>petrol</td>\n",
       "      <td>opel</td>\n",
       "      <td>NaN</td>\n",
       "    </tr>\n",
       "    <tr>\n",
       "      <th>78584</th>\n",
       "      <td>volkswagen_kuebelwagen_type82_kdf_kuebel_oldti...</td>\n",
       "      <td>12000</td>\n",
       "      <td>suv</td>\n",
       "      <td>1945</td>\n",
       "      <td>manually</td>\n",
       "      <td>44.0</td>\n",
       "      <td>50000</td>\n",
       "      <td>petrol</td>\n",
       "      <td>volkswagen</td>\n",
       "      <td>no</td>\n",
       "    </tr>\n",
       "    <tr>\n",
       "      <th>352061</th>\n",
       "      <td>Oldtimer_Aero_30_Roadster_1938</td>\n",
       "      <td>17000</td>\n",
       "      <td>convertible</td>\n",
       "      <td>1944</td>\n",
       "      <td>manually</td>\n",
       "      <td>30.0</td>\n",
       "      <td>5000</td>\n",
       "      <td>petrol</td>\n",
       "      <td>sonstige_autos</td>\n",
       "      <td>no</td>\n",
       "    </tr>\n",
       "    <tr>\n",
       "      <th>213933</th>\n",
       "      <td>Golf_Stockcar_/_Auto_Cross_/_Rennen_/_Hobby</td>\n",
       "      <td>222</td>\n",
       "      <td>NaN</td>\n",
       "      <td>1910</td>\n",
       "      <td>manually</td>\n",
       "      <td>0.0</td>\n",
       "      <td>5000</td>\n",
       "      <td>petrol</td>\n",
       "      <td>volkswagen</td>\n",
       "      <td>NaN</td>\n",
       "    </tr>\n",
       "    <tr>\n",
       "      <th>228950</th>\n",
       "      <td>Ford_Cabrio</td>\n",
       "      <td>6000</td>\n",
       "      <td>convertible</td>\n",
       "      <td>1932</td>\n",
       "      <td>NaN</td>\n",
       "      <td>0.0</td>\n",
       "      <td>30000</td>\n",
       "      <td>NaN</td>\n",
       "      <td>ford</td>\n",
       "      <td>no</td>\n",
       "    </tr>\n",
       "    <tr>\n",
       "      <th>172644</th>\n",
       "      <td>SUCHE_VW_Corrado_Golf2_G60_16V_VR6_Zustand_ega...</td>\n",
       "      <td>99999</td>\n",
       "      <td>NaN</td>\n",
       "      <td>1910</td>\n",
       "      <td>NaN</td>\n",
       "      <td>0.0</td>\n",
       "      <td>150000</td>\n",
       "      <td>NaN</td>\n",
       "      <td>volkswagen</td>\n",
       "      <td>NaN</td>\n",
       "    </tr>\n",
       "    <tr>\n",
       "      <th>345248</th>\n",
       "      <td>Tempo_Dreirad_A400_Bj_1945</td>\n",
       "      <td>12000</td>\n",
       "      <td>other</td>\n",
       "      <td>1945</td>\n",
       "      <td>manually</td>\n",
       "      <td>12.0</td>\n",
       "      <td>5000</td>\n",
       "      <td>petrol</td>\n",
       "      <td>sonstige_autos</td>\n",
       "      <td>no</td>\n",
       "    </tr>\n",
       "  </tbody>\n",
       "</table>\n",
       "</div>"
      ],
      "text/plain": [
       "                                                     name   price  \\\n",
       "230289   ***Mercedes_W_143__230_Sonnenschein_Limousine***  111111   \n",
       "352421                                  BMW_DIXI_OLDTIMER   20000   \n",
       "198973              VW_Kaefer.__Zwei_zum_Preis_von_einem.    1500   \n",
       "284505  Oldtimer_Opel_Kadett_K38__seltener_4_tuerer__S...    5000   \n",
       "78584   volkswagen_kuebelwagen_type82_kdf_kuebel_oldti...   12000   \n",
       "352061                     Oldtimer_Aero_30_Roadster_1938   17000   \n",
       "213933        Golf_Stockcar_/_Auto_Cross_/_Rennen_/_Hobby     222   \n",
       "228950                                        Ford_Cabrio    6000   \n",
       "172644  SUCHE_VW_Corrado_Golf2_G60_16V_VR6_Zustand_ega...   99999   \n",
       "345248                         Tempo_Dreirad_A400_Bj_1945   12000   \n",
       "\n",
       "        vehicleType  yearOfRegistration   gearbox  powerCV  kilometer  \\\n",
       "230289          NaN                1939  manually     57.0       5000   \n",
       "352421        coupe                1929  manually     12.0      10000   \n",
       "198973          NaN                1000  manually      0.0       5000   \n",
       "284505          NaN                1938  manually      0.0       5000   \n",
       "78584           suv                1945  manually     44.0      50000   \n",
       "352061  convertible                1944  manually     30.0       5000   \n",
       "213933          NaN                1910  manually      0.0       5000   \n",
       "228950  convertible                1932       NaN      0.0      30000   \n",
       "172644          NaN                1910       NaN      0.0     150000   \n",
       "345248        other                1945  manually     12.0       5000   \n",
       "\n",
       "       fuelType           brand notRepairedDamage  \n",
       "230289   petrol   mercedes_benz               yes  \n",
       "352421   petrol             bmw               NaN  \n",
       "198973   petrol      volkswagen               NaN  \n",
       "284505   petrol            opel               NaN  \n",
       "78584    petrol      volkswagen                no  \n",
       "352061   petrol  sonstige_autos                no  \n",
       "213933   petrol      volkswagen               NaN  \n",
       "228950      NaN            ford                no  \n",
       "172644      NaN      volkswagen               NaN  \n",
       "345248   petrol  sonstige_autos                no  "
      ]
     },
     "execution_count": 43,
     "metadata": {},
     "output_type": "execute_result"
    }
   ],
   "source": [
    "df[df['yearOfRegistration'] < umbral_fecha].sample(10)"
   ]
  },
  {
   "cell_type": "markdown",
   "metadata": {},
   "source": [
    "Vemos que la mayoría de estas entradas parecen ser erróneas por lo que directamente vamos a aplicar un filtro para eliminarlas.\n",
    "\n",
    "También podríamos convertir su año a nulo y luego gestionarlos, pero al tener tan poca información y ser pocas entradas del dataset no nos compensa."
   ]
  },
  {
   "cell_type": "code",
   "execution_count": 44,
   "metadata": {},
   "outputs": [],
   "source": [
    "# Nos quedamos con las entradas que sean posteriores a 1950 (el umbral de años que hemos establecido)\n",
    "df = df[df['yearOfRegistration'] > umbral_fecha]"
   ]
  },
  {
   "cell_type": "markdown",
   "metadata": {},
   "source": [
    "### Columna `powerCV`"
   ]
  },
  {
   "cell_type": "markdown",
   "metadata": {},
   "source": [
    "Un vehículo con una potencia de más de 1200 CV prácticamente no existe, y menos aún que se venda de segunda mano. Estos valores serán convertidos a nulos.\n",
    "\n",
    "Por otra parte, es muy poco frecuente tener vehículos en el rango de entre 550CV y 1200CV, incluso siendo deportivos. Vamos a ver la distribución en este rango."
   ]
  },
  {
   "cell_type": "code",
   "execution_count": 45,
   "metadata": {},
   "outputs": [
    {
     "data": {
      "image/png": "[encoded data removed]",
      "text/plain": [
       "<Figure size 800x400 with 1 Axes>"
      ]
     },
     "metadata": {},
     "output_type": "display_data"
    }
   ],
   "source": [
    "umbral_superior_cv = 550\n",
    "\n",
    "plt.figure(figsize=(8, 4))\n",
    "\n",
    "sns.histplot(df['powerCV'], bins=20, binrange=(umbral_superior_cv, 1200))\n",
    "plt.show()"
   ]
  },
  {
   "cell_type": "markdown",
   "metadata": {},
   "source": [
    "Veamos cuántas entradas son"
   ]
  },
  {
   "cell_type": "code",
   "execution_count": 46,
   "metadata": {},
   "outputs": [
    {
     "data": {
      "text/plain": [
       "(518, 10)"
      ]
     },
     "execution_count": 46,
     "metadata": {},
     "output_type": "execute_result"
    }
   ],
   "source": [
    "df[(df['powerCV'] > umbral_superior_cv)].shape"
   ]
  },
  {
   "cell_type": "markdown",
   "metadata": {},
   "source": [
    "Podríamos examinar detenidamente a ver si lo eliminamos o los convertimos a nulos, pero son tan pocas entradas respecto del total que vamos a eliminarlas usando un filtro."
   ]
  },
  {
   "cell_type": "code",
   "execution_count": 47,
   "metadata": {},
   "outputs": [],
   "source": [
    "# Nos quedamos con las entradas que tengan una potencia imferior al umbral\n",
    "df = df[df['powerCV'] < umbral_superior_cv]"
   ]
  },
  {
   "cell_type": "markdown",
   "metadata": {},
   "source": [
    "En cuanto al rango inferior de potencia, los vehículos con potencia inferior a cierto valor no son realistas. Los vehículos menos potentes del mercado pueden llegar hasta 50CV. Pongamos un umbral de 40CV, para permitir la posibilidad de de que vehículos más antiguos o modestos puedan llegar a niveles más bajos.\n",
    "\n",
    "Veamos algunas entradas:"
   ]
  },
  {
   "cell_type": "code",
   "execution_count": 48,
   "metadata": {},
   "outputs": [
    {
     "data": {
      "text/html": [
       "<div>\n",
       "<style scoped>\n",
       "    .dataframe tbody tr th:only-of-type {\n",
       "        vertical-align: middle;\n",
       "    }\n",
       "\n",
       "    .dataframe tbody tr th {\n",
       "        vertical-align: top;\n",
       "    }\n",
       "\n",
       "    .dataframe thead th {\n",
       "        text-align: right;\n",
       "    }\n",
       "</style>\n",
       "<table border=\"1\" class=\"dataframe\">\n",
       "  <thead>\n",
       "    <tr style=\"text-align: right;\">\n",
       "      <th></th>\n",
       "      <th>name</th>\n",
       "      <th>price</th>\n",
       "      <th>vehicleType</th>\n",
       "      <th>yearOfRegistration</th>\n",
       "      <th>gearbox</th>\n",
       "      <th>powerCV</th>\n",
       "      <th>kilometer</th>\n",
       "      <th>fuelType</th>\n",
       "      <th>brand</th>\n",
       "      <th>notRepairedDamage</th>\n",
       "    </tr>\n",
       "  </thead>\n",
       "  <tbody>\n",
       "    <tr>\n",
       "      <th>110549</th>\n",
       "      <td>Passat_2.0_Navi_Leder</td>\n",
       "      <td>2600</td>\n",
       "      <td>combi</td>\n",
       "      <td>2005</td>\n",
       "      <td>NaN</td>\n",
       "      <td>0.0</td>\n",
       "      <td>150000</td>\n",
       "      <td>diesel</td>\n",
       "      <td>volkswagen</td>\n",
       "      <td>NaN</td>\n",
       "    </tr>\n",
       "    <tr>\n",
       "      <th>342313</th>\n",
       "      <td>Verkaufe_meinen_sehr_sauberen_Corsa_B_mit_Tuev...</td>\n",
       "      <td>399</td>\n",
       "      <td>small car</td>\n",
       "      <td>1998</td>\n",
       "      <td>manually</td>\n",
       "      <td>0.0</td>\n",
       "      <td>150000</td>\n",
       "      <td>NaN</td>\n",
       "      <td>opel</td>\n",
       "      <td>no</td>\n",
       "    </tr>\n",
       "    <tr>\n",
       "      <th>116648</th>\n",
       "      <td>BMW_316_Compact____M_Packet_Sport_</td>\n",
       "      <td>1800</td>\n",
       "      <td>NaN</td>\n",
       "      <td>2005</td>\n",
       "      <td>automatic</td>\n",
       "      <td>0.0</td>\n",
       "      <td>150000</td>\n",
       "      <td>petrol</td>\n",
       "      <td>bmw</td>\n",
       "      <td>NaN</td>\n",
       "    </tr>\n",
       "    <tr>\n",
       "      <th>85651</th>\n",
       "      <td>Bmw_528i_Automatik__abn._Ahk_TÜV_neu_top_zustand</td>\n",
       "      <td>3400</td>\n",
       "      <td>NaN</td>\n",
       "      <td>2000</td>\n",
       "      <td>NaN</td>\n",
       "      <td>0.0</td>\n",
       "      <td>150000</td>\n",
       "      <td>petrol</td>\n",
       "      <td>bmw</td>\n",
       "      <td>no</td>\n",
       "    </tr>\n",
       "    <tr>\n",
       "      <th>247708</th>\n",
       "      <td>Skoda_fabia_1_2_erste_Hand</td>\n",
       "      <td>1700</td>\n",
       "      <td>NaN</td>\n",
       "      <td>2005</td>\n",
       "      <td>manually</td>\n",
       "      <td>0.0</td>\n",
       "      <td>150000</td>\n",
       "      <td>petrol</td>\n",
       "      <td>skoda</td>\n",
       "      <td>NaN</td>\n",
       "    </tr>\n",
       "  </tbody>\n",
       "</table>\n",
       "</div>"
      ],
      "text/plain": [
       "                                                     name  price vehicleType  \\\n",
       "110549                              Passat_2.0_Navi_Leder   2600       combi   \n",
       "342313  Verkaufe_meinen_sehr_sauberen_Corsa_B_mit_Tuev...    399   small car   \n",
       "116648                 BMW_316_Compact____M_Packet_Sport_   1800         NaN   \n",
       "85651    Bmw_528i_Automatik__abn._Ahk_TÜV_neu_top_zustand   3400         NaN   \n",
       "247708                         Skoda_fabia_1_2_erste_Hand   1700         NaN   \n",
       "\n",
       "        yearOfRegistration    gearbox  powerCV  kilometer fuelType  \\\n",
       "110549                2005        NaN      0.0     150000   diesel   \n",
       "342313                1998   manually      0.0     150000      NaN   \n",
       "116648                2005  automatic      0.0     150000   petrol   \n",
       "85651                 2000        NaN      0.0     150000   petrol   \n",
       "247708                2005   manually      0.0     150000   petrol   \n",
       "\n",
       "             brand notRepairedDamage  \n",
       "110549  volkswagen               NaN  \n",
       "342313        opel                no  \n",
       "116648         bmw               NaN  \n",
       "85651          bmw                no  \n",
       "247708       skoda               NaN  "
      ]
     },
     "execution_count": 48,
     "metadata": {},
     "output_type": "execute_result"
    }
   ],
   "source": [
    "df[df['powerCV'] < 40].sample(5)"
   ]
  },
  {
   "cell_type": "code",
   "execution_count": 49,
   "metadata": {},
   "outputs": [
    {
     "data": {
      "text/plain": [
       "36733"
      ]
     },
     "execution_count": 49,
     "metadata": {},
     "output_type": "execute_result"
    }
   ],
   "source": [
    "df[df['powerCV'] < 40].shape[0]"
   ]
  },
  {
   "cell_type": "markdown",
   "metadata": {},
   "source": [
    "Vemos que hay muchas con un valor de 0 o valores que no tienen sentido. Como son bastantes entradas no las vamos a eliminar sino reemplazarlas por valores nulos"
   ]
  },
  {
   "cell_type": "code",
   "execution_count": 50,
   "metadata": {},
   "outputs": [],
   "source": [
    "# Generar nulos para estos valores\n",
    "df['powerCV'] = df['powerCV'].apply(lambda x: np.nan if x < 40 else x)"
   ]
  },
  {
   "cell_type": "markdown",
   "metadata": {},
   "source": [
    "### Columna `kilometer`"
   ]
  },
  {
   "cell_type": "markdown",
   "metadata": {},
   "source": [
    "Los km acumulados por un vehículo es una variable numérica continua. Sin embargo, los datos parecen estar agrupados en intervalos discretos."
   ]
  },
  {
   "cell_type": "code",
   "execution_count": 51,
   "metadata": {},
   "outputs": [
    {
     "data": {
      "text/plain": [
       "kilometer\n",
       "150000    230472\n",
       "125000     37125\n",
       "100000     15306\n",
       "90000      12286\n",
       "80000      10842\n",
       "70000       9619\n",
       "60000       8553\n",
       "50000       7496\n",
       "40000       6293\n",
       "30000       5886\n",
       "20000       5447\n",
       "5000        5272\n",
       "10000       1807\n",
       "Name: count, dtype: int64"
      ]
     },
     "execution_count": 51,
     "metadata": {},
     "output_type": "execute_result"
    }
   ],
   "source": [
    "df['kilometer'].value_counts()"
   ]
  },
  {
   "cell_type": "code",
   "execution_count": 52,
   "metadata": {},
   "outputs": [
    {
     "data": {
      "text/plain": [
       "13"
      ]
     },
     "execution_count": 52,
     "metadata": {},
     "output_type": "execute_result"
    }
   ],
   "source": [
    "df['kilometer'].nunique()"
   ]
  },
  {
   "cell_type": "markdown",
   "metadata": {},
   "source": [
    "Solo tenemos 13 valores diferentes, lo que se ve bien en un histograma."
   ]
  },
  {
   "cell_type": "code",
   "execution_count": 57,
   "metadata": {},
   "outputs": [
    {
     "data": {
      "image/png": "[encoded data removed]",
      "text/plain": [
       "<Figure size 600x300 with 1 Axes>"
      ]
     },
     "metadata": {},
     "output_type": "display_data"
    }
   ],
   "source": [
    "plt.figure(figsize=(6, 3))\n",
    "sns.histplot(df['kilometer'])\n",
    "plt.show()"
   ]
  },
  {
   "cell_type": "markdown",
   "metadata": {},
   "source": [
    "No parece haber ningún valor que sea extraño por lo que vamos a dejarlo como está"
   ]
  },
  {
   "cell_type": "markdown",
   "metadata": {},
   "source": [
    "### Columna `vehicleType`"
   ]
  },
  {
   "cell_type": "code",
   "execution_count": 63,
   "metadata": {},
   "outputs": [
    {
     "data": {
      "text/plain": [
       "vehicleType\n",
       "NaN            125709\n",
       "small car       77122\n",
       "combi           65680\n",
       "bus             29653\n",
       "convertible     22436\n",
       "coupe           18294\n",
       "suv             14438\n",
       "other            3072\n",
       "Name: count, dtype: int64"
      ]
     },
     "execution_count": 63,
     "metadata": {},
     "output_type": "execute_result"
    }
   ],
   "source": [
    "df['vehicleType'].value_counts(dropna=False)"
   ]
  },
  {
   "cell_type": "code",
   "execution_count": 62,
   "metadata": {},
   "outputs": [
    {
     "data": {
      "text/plain": [
       "7"
      ]
     },
     "execution_count": 62,
     "metadata": {},
     "output_type": "execute_result"
    }
   ],
   "source": [
    "df['vehicleType'].nunique()"
   ]
  },
  {
   "cell_type": "markdown",
   "metadata": {},
   "source": [
    "Vemos que tenemos 7 tipos de valores diferentes de valores con una gran cantidad de nulos. Podemos directamente crear una nueva categoría que sea `unknown`"
   ]
  },
  {
   "cell_type": "code",
   "execution_count": 64,
   "metadata": {},
   "outputs": [],
   "source": [
    "df['vehicleType'].fillna('unkonwn', inplace=True)"
   ]
  },
  {
   "cell_type": "markdown",
   "metadata": {},
   "source": [
    "Podemos visualizarlo en un gráfico de barras"
   ]
  },
  {
   "cell_type": "code",
   "execution_count": null,
   "metadata": {},
   "outputs": [
    {
     "data": {
      "image/png": "[encoded data removed]",
      "text/plain": [
       "<Figure size 800x300 with 1 Axes>"
      ]
     },
     "metadata": {},
     "output_type": "display_data"
    }
   ],
   "source": [
    "plt.figure(figsize=(8, 3))\n",
    "sns.countplot(x=df['vehicleType'])\n",
    "plt.show()"
   ]
  },
  {
   "cell_type": "markdown",
   "metadata": {},
   "source": [
    "### Columna `gearbox`"
   ]
  },
  {
   "cell_type": "code",
   "execution_count": 69,
   "metadata": {},
   "outputs": [
    {
     "data": {
      "text/plain": [
       "gearbox\n",
       "manually     264840\n",
       "automatic     75226\n",
       "NaN           16338\n",
       "Name: count, dtype: int64"
      ]
     },
     "execution_count": 69,
     "metadata": {},
     "output_type": "execute_result"
    }
   ],
   "source": [
    "df['gearbox'].value_counts(dropna=False)"
   ]
  },
  {
   "cell_type": "markdown",
   "metadata": {},
   "source": [
    "De nuevo, aquí vamos a sustituir los valores nulos por `unknown`"
   ]
  },
  {
   "cell_type": "code",
   "execution_count": 70,
   "metadata": {},
   "outputs": [],
   "source": [
    "df['gearbox'].fillna('unkonwn', inplace=True)"
   ]
  },
  {
   "cell_type": "markdown",
   "metadata": {},
   "source": [
    "### Columna `fuelType`"
   ]
  },
  {
   "cell_type": "code",
   "execution_count": 72,
   "metadata": {},
   "outputs": [
    {
     "data": {
      "text/plain": [
       "array(['petrol', 'diesel', nan, 'lpg', 'other', 'hybrid', 'cng',\n",
       "       'electro'], dtype=object)"
      ]
     },
     "execution_count": 72,
     "metadata": {},
     "output_type": "execute_result"
    }
   ],
   "source": [
    "df['fuelType'].unique()"
   ]
  },
  {
   "cell_type": "markdown",
   "metadata": {},
   "source": [
    "- ``petrol``: gasolina convencional.  \n",
    "\n",
    "- ``diesel``: gasoil.  \n",
    "\n",
    "- ``nan``: dato no disponible.  \n",
    "\n",
    "- ``lpg``: gas licuado del petróleo, más ecológico y económico.  \n",
    "\n",
    "- ``other``: otro tipo de combustible no especificado.  \n",
    "\n",
    "- ``hybrid``: combinación de motor de combustión y eléctrico.  \n",
    "\n",
    "- ``cng``: gas natural comprimido, alternativa limpia.  \n",
    "\n",
    "- ``electro``: totalmente eléctrico, sin motor de combustión."
   ]
  },
  {
   "cell_type": "markdown",
   "metadata": {},
   "source": [
    "De nuevo, cambiemos los nulos por `unknown`"
   ]
  },
  {
   "cell_type": "code",
   "execution_count": 73,
   "metadata": {},
   "outputs": [],
   "source": [
    "df['fuelType'].fillna('unkonwn', inplace=True)"
   ]
  },
  {
   "cell_type": "code",
   "execution_count": 74,
   "metadata": {},
   "outputs": [
    {
     "data": {
      "text/plain": [
       "fuelType\n",
       "petrol     215947\n",
       "diesel     105849\n",
       "unkonwn     28316\n",
       "lpg          5217\n",
       "cng           553\n",
       "hybrid        271\n",
       "other         154\n",
       "electro        97\n",
       "Name: count, dtype: int64"
      ]
     },
     "execution_count": 74,
     "metadata": {},
     "output_type": "execute_result"
    }
   ],
   "source": [
    "df['fuelType'].value_counts()"
   ]
  },
  {
   "cell_type": "markdown",
   "metadata": {},
   "source": [
    "Vemos que casi todos son gasolina o diésel. Unos cuantos son desconocidos y hay una pequeña proporción del resto de categorías."
   ]
  },
  {
   "cell_type": "markdown",
   "metadata": {},
   "source": [
    "### Columna `brand`"
   ]
  },
  {
   "cell_type": "code",
   "execution_count": 75,
   "metadata": {},
   "outputs": [
    {
     "data": {
      "text/plain": [
       "array(['alfa_romeo', 'audi', 'bmw', 'chevrolet', 'chrysler', 'citroen',\n",
       "       'dacia', 'daewoo', 'daihatsu', 'fiat', 'ford', 'honda', 'hyundai',\n",
       "       'jaguar', 'jeep', 'kia', 'lada', 'lancia', 'land_rover', 'mazda',\n",
       "       'mercedes_benz', 'mini', 'mitsubishi', 'nissan', 'opel', 'peugeot',\n",
       "       'porsche', 'renault', 'rover', 'saab', 'seat', 'skoda', 'smart',\n",
       "       'sonstige_autos', 'subaru', 'suzuki', 'toyota', 'trabant',\n",
       "       'volkswagen', 'volvo'], dtype=object)"
      ]
     },
     "execution_count": 75,
     "metadata": {},
     "output_type": "execute_result"
    }
   ],
   "source": [
    "df['brand'].sort_values().unique()"
   ]
  },
  {
   "cell_type": "code",
   "execution_count": 76,
   "metadata": {},
   "outputs": [
    {
     "data": {
      "text/plain": [
       "40"
      ]
     },
     "execution_count": 76,
     "metadata": {},
     "output_type": "execute_result"
    }
   ],
   "source": [
    "df['brand'].nunique()"
   ]
  },
  {
   "cell_type": "code",
   "execution_count": 77,
   "metadata": {},
   "outputs": [
    {
     "data": {
      "text/plain": [
       "np.int64(0)"
      ]
     },
     "execution_count": 77,
     "metadata": {},
     "output_type": "execute_result"
    }
   ],
   "source": [
    "df['brand'].isna().sum()"
   ]
  },
  {
   "cell_type": "markdown",
   "metadata": {},
   "source": [
    "Tenemos 40 marcas diferentes. Fijémonos en que `sonstige_autos` se traduce como `otros_vehículos`, por lo que podemos modificarlo a `other`, para facilitar la comprensión."
   ]
  },
  {
   "cell_type": "code",
   "execution_count": 81,
   "metadata": {},
   "outputs": [],
   "source": [
    "df['brand'] = df['brand'].replace({'sonstige_autos': 'other'})"
   ]
  },
  {
   "cell_type": "code",
   "execution_count": 82,
   "metadata": {},
   "outputs": [
    {
     "data": {
      "text/plain": [
       "brand\n",
       "volkswagen       76203\n",
       "bmw              38829\n",
       "opel             38110\n",
       "mercedes_benz    34368\n",
       "audi             31746\n",
       "ford             24378\n",
       "renault          17154\n",
       "peugeot          10694\n",
       "fiat              9223\n",
       "seat              6759\n",
       "skoda             5557\n",
       "mazda             5497\n",
       "smart             5146\n",
       "citroen           4973\n",
       "nissan            4848\n",
       "toyota            4608\n",
       "hyundai           3570\n",
       "mini              3346\n",
       "volvo             3212\n",
       "other             3185\n",
       "mitsubishi        2928\n",
       "honda             2711\n",
       "kia               2480\n",
       "suzuki            2248\n",
       "alfa_romeo        2230\n",
       "porsche           2144\n",
       "chevrolet         1771\n",
       "chrysler          1356\n",
       "dacia              887\n",
       "jeep               776\n",
       "land_rover         758\n",
       "daihatsu           753\n",
       "subaru             734\n",
       "jaguar             596\n",
       "daewoo             520\n",
       "saab               516\n",
       "trabant            468\n",
       "rover              455\n",
       "lancia             455\n",
       "lada               212\n",
       "Name: count, dtype: int64"
      ]
     },
     "execution_count": 82,
     "metadata": {},
     "output_type": "execute_result"
    }
   ],
   "source": [
    "df['brand'].value_counts()"
   ]
  },
  {
   "cell_type": "markdown",
   "metadata": {},
   "source": []
  }
 ],
 "metadata": {
  "kernelspec": {
   "display_name": "main_env",
   "language": "python",
   "name": "python3"
  },
  "language_info": {
   "codemirror_mode": {
    "name": "ipython",
    "version": 3
   },
   "file_extension": ".py",
   "mimetype": "text/x-python",
   "name": "python",
   "nbconvert_exporter": "python",
   "pygments_lexer": "ipython3",
   "version": "3.12.9"
  }
 },
 "nbformat": 4,
 "nbformat_minor": 2
}
