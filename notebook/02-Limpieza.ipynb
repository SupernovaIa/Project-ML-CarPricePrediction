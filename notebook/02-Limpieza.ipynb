{
 "cells": [
  {
   "cell_type": "markdown",
   "metadata": {},
   "source": [
    "## Importación de librerías"
   ]
  },
  {
   "cell_type": "code",
   "execution_count": 21,
   "metadata": {},
   "outputs": [],
   "source": [
    "# Data processing  \n",
    "# -----------------------------------------------------------------------  \n",
    "import numpy as np  \n",
    "import pandas as pd  \n",
    "\n",
    "# Other objectives  \n",
    "# -----------------------------------------------------------------------  \n",
    "import math  \n",
    "\n",
    "# Graphics  \n",
    "# -----------------------------------------------------------------------  \n",
    "import seaborn as sns  \n",
    "import matplotlib.pyplot as plt  \n",
    "\n",
    "# Path configuration for custom module imports  \n",
    "# -----------------------------------------------------------------------  \n",
    "import sys  \n",
    "sys.path.append('../')  # Adds the parent directory to the path for custom module imports  \n",
    "\n",
    "# Ignore warnings  \n",
    "# -----------------------------------------------------------------------  \n",
    "import warnings  \n",
    "warnings.filterwarnings(\"ignore\") \n",
    "\n",
    "# Curstom functions \n",
    "# ----------------------------------------------------------------------- \n",
    "from src.support_eda import plot_categoric_distribution, plot_correlation_matrix, plot_numeric_distribution, plot_relation_tv_numeric, plot_outliers  "
   ]
  },
  {
   "cell_type": "markdown",
   "metadata": {},
   "source": [
    "## Carga de datos"
   ]
  },
  {
   "cell_type": "code",
   "execution_count": 22,
   "metadata": {},
   "outputs": [],
   "source": [
    "df = pd.read_csv('../data/raw/autorenew.csv', parse_dates=['dateCrawled', 'dateCreated', 'lastSeen'])"
   ]
  },
  {
   "cell_type": "code",
   "execution_count": 23,
   "metadata": {},
   "outputs": [
    {
     "data": {
      "text/html": [
       "<div>\n",
       "<style scoped>\n",
       "    .dataframe tbody tr th:only-of-type {\n",
       "        vertical-align: middle;\n",
       "    }\n",
       "\n",
       "    .dataframe tbody tr th {\n",
       "        vertical-align: top;\n",
       "    }\n",
       "\n",
       "    .dataframe thead th {\n",
       "        text-align: right;\n",
       "    }\n",
       "</style>\n",
       "<table border=\"1\" class=\"dataframe\">\n",
       "  <thead>\n",
       "    <tr style=\"text-align: right;\">\n",
       "      <th></th>\n",
       "      <th>dateCrawled</th>\n",
       "      <th>name</th>\n",
       "      <th>seller</th>\n",
       "      <th>offerType</th>\n",
       "      <th>price</th>\n",
       "      <th>abtest</th>\n",
       "      <th>vehicleType</th>\n",
       "      <th>yearOfRegistration</th>\n",
       "      <th>gearbox</th>\n",
       "      <th>powerCV</th>\n",
       "      <th>model</th>\n",
       "      <th>kilometer</th>\n",
       "      <th>monthOfRegistration</th>\n",
       "      <th>fuelType</th>\n",
       "      <th>brand</th>\n",
       "      <th>notRepairedDamage</th>\n",
       "      <th>dateCreated</th>\n",
       "      <th>nrOfPictures</th>\n",
       "      <th>postalCode</th>\n",
       "      <th>lastSeen</th>\n",
       "    </tr>\n",
       "  </thead>\n",
       "  <tbody>\n",
       "    <tr>\n",
       "      <th>0</th>\n",
       "      <td>2016-03-24 11:52:17</td>\n",
       "      <td>Golf_3_1.6</td>\n",
       "      <td>private</td>\n",
       "      <td>offer</td>\n",
       "      <td>480</td>\n",
       "      <td>test</td>\n",
       "      <td>NaN</td>\n",
       "      <td>1993</td>\n",
       "      <td>manually</td>\n",
       "      <td>0.0</td>\n",
       "      <td>golf</td>\n",
       "      <td>150000</td>\n",
       "      <td>0</td>\n",
       "      <td>petrol</td>\n",
       "      <td>volkswagen</td>\n",
       "      <td>NaN</td>\n",
       "      <td>2016-03-24</td>\n",
       "      <td>0</td>\n",
       "      <td>70435</td>\n",
       "      <td>2016-04-07 03:16:57</td>\n",
       "    </tr>\n",
       "    <tr>\n",
       "      <th>1</th>\n",
       "      <td>2016-03-24 10:58:45</td>\n",
       "      <td>A5_Sportback_2.7_Tdi</td>\n",
       "      <td>private</td>\n",
       "      <td>offer</td>\n",
       "      <td>18300</td>\n",
       "      <td>test</td>\n",
       "      <td>coupe</td>\n",
       "      <td>2011</td>\n",
       "      <td>manually</td>\n",
       "      <td>187.0</td>\n",
       "      <td>NaN</td>\n",
       "      <td>125000</td>\n",
       "      <td>5</td>\n",
       "      <td>diesel</td>\n",
       "      <td>audi</td>\n",
       "      <td>yes</td>\n",
       "      <td>2016-03-24</td>\n",
       "      <td>0</td>\n",
       "      <td>66954</td>\n",
       "      <td>2016-04-07 01:46:50</td>\n",
       "    </tr>\n",
       "    <tr>\n",
       "      <th>2</th>\n",
       "      <td>2016-03-14 12:52:21</td>\n",
       "      <td>Jeep_Grand_Cherokee_\"Overland\"</td>\n",
       "      <td>private</td>\n",
       "      <td>offer</td>\n",
       "      <td>9800</td>\n",
       "      <td>test</td>\n",
       "      <td>suv</td>\n",
       "      <td>2004</td>\n",
       "      <td>automatic</td>\n",
       "      <td>161.0</td>\n",
       "      <td>grand</td>\n",
       "      <td>125000</td>\n",
       "      <td>8</td>\n",
       "      <td>diesel</td>\n",
       "      <td>jeep</td>\n",
       "      <td>NaN</td>\n",
       "      <td>2016-03-14</td>\n",
       "      <td>0</td>\n",
       "      <td>90480</td>\n",
       "      <td>2016-04-05 12:47:46</td>\n",
       "    </tr>\n",
       "    <tr>\n",
       "      <th>3</th>\n",
       "      <td>2016-03-17 16:54:04</td>\n",
       "      <td>GOLF_4_1_4__3TÜRER</td>\n",
       "      <td>private</td>\n",
       "      <td>offer</td>\n",
       "      <td>1500</td>\n",
       "      <td>test</td>\n",
       "      <td>small car</td>\n",
       "      <td>2001</td>\n",
       "      <td>manually</td>\n",
       "      <td>74.0</td>\n",
       "      <td>golf</td>\n",
       "      <td>150000</td>\n",
       "      <td>6</td>\n",
       "      <td>petrol</td>\n",
       "      <td>volkswagen</td>\n",
       "      <td>no</td>\n",
       "      <td>2016-03-17</td>\n",
       "      <td>0</td>\n",
       "      <td>91074</td>\n",
       "      <td>2016-03-17 17:40:17</td>\n",
       "    </tr>\n",
       "    <tr>\n",
       "      <th>4</th>\n",
       "      <td>2016-03-31 17:25:20</td>\n",
       "      <td>Skoda_Fabia_1.4_TDI_PD_Classic</td>\n",
       "      <td>private</td>\n",
       "      <td>offer</td>\n",
       "      <td>3600</td>\n",
       "      <td>test</td>\n",
       "      <td>small car</td>\n",
       "      <td>2008</td>\n",
       "      <td>manually</td>\n",
       "      <td>68.0</td>\n",
       "      <td>fabia</td>\n",
       "      <td>90000</td>\n",
       "      <td>7</td>\n",
       "      <td>diesel</td>\n",
       "      <td>skoda</td>\n",
       "      <td>no</td>\n",
       "      <td>2016-03-31</td>\n",
       "      <td>0</td>\n",
       "      <td>60437</td>\n",
       "      <td>2016-04-06 10:17:21</td>\n",
       "    </tr>\n",
       "  </tbody>\n",
       "</table>\n",
       "</div>"
      ],
      "text/plain": [
       "          dateCrawled                            name   seller offerType  \\\n",
       "0 2016-03-24 11:52:17                      Golf_3_1.6  private     offer   \n",
       "1 2016-03-24 10:58:45            A5_Sportback_2.7_Tdi  private     offer   \n",
       "2 2016-03-14 12:52:21  Jeep_Grand_Cherokee_\"Overland\"  private     offer   \n",
       "3 2016-03-17 16:54:04              GOLF_4_1_4__3TÜRER  private     offer   \n",
       "4 2016-03-31 17:25:20  Skoda_Fabia_1.4_TDI_PD_Classic  private     offer   \n",
       "\n",
       "   price abtest vehicleType  yearOfRegistration    gearbox  powerCV  model  \\\n",
       "0    480   test         NaN                1993   manually      0.0   golf   \n",
       "1  18300   test       coupe                2011   manually    187.0    NaN   \n",
       "2   9800   test         suv                2004  automatic    161.0  grand   \n",
       "3   1500   test   small car                2001   manually     74.0   golf   \n",
       "4   3600   test   small car                2008   manually     68.0  fabia   \n",
       "\n",
       "   kilometer  monthOfRegistration fuelType       brand notRepairedDamage  \\\n",
       "0     150000                    0   petrol  volkswagen               NaN   \n",
       "1     125000                    5   diesel        audi               yes   \n",
       "2     125000                    8   diesel        jeep               NaN   \n",
       "3     150000                    6   petrol  volkswagen                no   \n",
       "4      90000                    7   diesel       skoda                no   \n",
       "\n",
       "  dateCreated  nrOfPictures  postalCode            lastSeen  \n",
       "0  2016-03-24             0       70435 2016-04-07 03:16:57  \n",
       "1  2016-03-24             0       66954 2016-04-07 01:46:50  \n",
       "2  2016-03-14             0       90480 2016-04-05 12:47:46  \n",
       "3  2016-03-17             0       91074 2016-03-17 17:40:17  \n",
       "4  2016-03-31             0       60437 2016-04-06 10:17:21  "
      ]
     },
     "execution_count": 23,
     "metadata": {},
     "output_type": "execute_result"
    }
   ],
   "source": [
    "df.head()"
   ]
  },
  {
   "cell_type": "markdown",
   "metadata": {},
   "source": [
    "### Selección de columnas"
   ]
  },
  {
   "cell_type": "markdown",
   "metadata": {},
   "source": [
    "Vamos a eliminar columnas que no nos aporten información relevante:\n",
    "\n",
    "* `dateCrawled`, `dateCreated`, `lastSeen`: En el EDA preliminar habíamos visto que los anuncios son de entre 2014 y 2016 y que más allá de eso no nos aporta más información.\n",
    "\n",
    "* `name`: Puede ser útil para identificar el anuncio, aunque en general no nos aporta demasiada información.\n",
    "\n",
    "* `seller`: Todos los valores son `private` salvo 3 entradas, que son `commercial`. Vamos a eliminar directamente la columna.\n",
    "\n",
    "* `offerType`: De igual forma, todos los valores son `offer` salvo 12 entradas, que son `request`. Podemos eliminar la columna y los vehículos que son `request`.\n",
    "\n",
    "* `model`: Tenemos más de 250 entradas y es una subcategoría de `brand`. Podríamos dejarla para un análisis más granular pero ahora vamos a eliminarla.\n",
    "\n",
    "* `monthOfRegistration`: Podríamos hacer un análisis de estacionalidad o por temporadas, pero no será el caso. Además, hay un valor que es 0, lo cual es imposible para meses por lo que realmente sería desconocido. Utilizaremos solamente `yearOfRegistration`.\n",
    "\n",
    "* `nrOfPictures`: Todos los valores son 0 por lo que no aporta valor."
   ]
  },
  {
   "cell_type": "code",
   "execution_count": 24,
   "metadata": {},
   "outputs": [],
   "source": [
    "columnas_eliminar = [\n",
    "    'dateCrawled',\n",
    "    'dateCreated', \n",
    "    'lastSeen', \n",
    "    'name', \n",
    "    'seller', \n",
    "    'offerType', \n",
    "    'model', \n",
    "    'monthOfRegistration', \n",
    "    'nrOfPictures'\n",
    "    ]"
   ]
  },
  {
   "cell_type": "code",
   "execution_count": 26,
   "metadata": {},
   "outputs": [],
   "source": [
    "df.drop(columns=columnas_eliminar, inplace=True)"
   ]
  },
  {
   "cell_type": "markdown",
   "metadata": {},
   "source": [
    "## Limpieza de datos"
   ]
  },
  {
   "cell_type": "markdown",
   "metadata": {},
   "source": [
    "Vayamos columna a columna"
   ]
  },
  {
   "cell_type": "code",
   "execution_count": 27,
   "metadata": {},
   "outputs": [
    {
     "data": {
      "text/plain": [
       "['price',\n",
       " 'abtest',\n",
       " 'vehicleType',\n",
       " 'yearOfRegistration',\n",
       " 'gearbox',\n",
       " 'powerCV',\n",
       " 'kilometer',\n",
       " 'fuelType',\n",
       " 'brand',\n",
       " 'notRepairedDamage',\n",
       " 'postalCode']"
      ]
     },
     "execution_count": 27,
     "metadata": {},
     "output_type": "execute_result"
    }
   ],
   "source": [
    "df.columns.to_list()"
   ]
  },
  {
   "cell_type": "markdown",
   "metadata": {},
   "source": [
    "### Columna `price`"
   ]
  },
  {
   "cell_type": "markdown",
   "metadata": {},
   "source": [
    "Valores de precio extremadamente bajos no tienen sentido. Sin embargo, es difícil establecer un criterio estricto para filtrar ya que vehículos muy antiguos o con daños realmente pueden tener precios muy bajos."
   ]
  },
  {
   "cell_type": "code",
   "execution_count": 43,
   "metadata": {},
   "outputs": [
    {
     "name": "stdout",
     "output_type": "stream",
     "text": [
      "El porcentaje de valores nulos en la columna price es: 0\n"
     ]
    }
   ],
   "source": [
    "print(f\"El porcentaje de valores nulos en la columna price es: {df['price'].isna().sum()}\")"
   ]
  },
  {
   "cell_type": "markdown",
   "metadata": {},
   "source": [
    "Como no teníamos valores nulos, veamos qué proporción de vehículos tienen un valor inferior a cierto umbral. Podemos elegir el umbral por ejemplo en 100 (presumiblemente euros)."
   ]
  },
  {
   "cell_type": "code",
   "execution_count": 50,
   "metadata": {},
   "outputs": [
    {
     "name": "stdout",
     "output_type": "stream",
     "text": [
      "El porcentaje de vehículos por debajo de 100 es: 3.59\n"
     ]
    }
   ],
   "source": [
    "umbral_precio_inferior = 100\n",
    "porcentaje_baratos = (df['price'] < umbral_precio_inferior).mean() * 100\n",
    "\n",
    "print(f\"El porcentaje de vehículos por debajo de {umbral_precio_inferior} es: {porcentaje_baratos:.2f}\")"
   ]
  },
  {
   "cell_type": "markdown",
   "metadata": {},
   "source": [
    "Los datos con un precio inferior a 100 son muy probablemente erróneos y representan alrededor del 3,6 % del conjunto de datos, por lo que parece razonable eliminarlos.  \n",
    "\n",
    "Es posible que haya vehículos que realmente tengan un precio por debajo de 100 debido a daños no reparados o a su antigüedad, pero es difícil establecer este criterio, así que procederemos de esta manera."
   ]
  },
  {
   "cell_type": "markdown",
   "metadata": {},
   "source": [
    "Veamos ahora qué sucede con los vehículos con un precio muy elevado. Pongamos el umbral en 4M."
   ]
  },
  {
   "cell_type": "code",
   "execution_count": 51,
   "metadata": {},
   "outputs": [
    {
     "name": "stdout",
     "output_type": "stream",
     "text": [
      "El porcentaje de vehículos por encima de 4000000.0 es: 0.01\n"
     ]
    }
   ],
   "source": [
    "umbral_precio_superior = 4e6\n",
    "porcentaje_caros = (df['price'] > umbral_precio_superior).mean() * 100\n",
    "\n",
    "print(f\"El porcentaje de vehículos por encima de {umbral_precio_superior} es: {porcentaje_caros:.2f}\")"
   ]
  },
  {
   "cell_type": "markdown",
   "metadata": {},
   "source": [
    "Podemos revisar manualmente estos datos para comprobar si tienen sentido:"
   ]
  },
  {
   "cell_type": "code",
   "execution_count": 54,
   "metadata": {},
   "outputs": [
    {
     "data": {
      "text/html": [
       "<div>\n",
       "<style scoped>\n",
       "    .dataframe tbody tr th:only-of-type {\n",
       "        vertical-align: middle;\n",
       "    }\n",
       "\n",
       "    .dataframe tbody tr th {\n",
       "        vertical-align: top;\n",
       "    }\n",
       "\n",
       "    .dataframe thead th {\n",
       "        text-align: right;\n",
       "    }\n",
       "</style>\n",
       "<table border=\"1\" class=\"dataframe\">\n",
       "  <thead>\n",
       "    <tr style=\"text-align: right;\">\n",
       "      <th></th>\n",
       "      <th>price</th>\n",
       "      <th>abtest</th>\n",
       "      <th>vehicleType</th>\n",
       "      <th>yearOfRegistration</th>\n",
       "      <th>gearbox</th>\n",
       "      <th>powerCV</th>\n",
       "      <th>kilometer</th>\n",
       "      <th>fuelType</th>\n",
       "      <th>brand</th>\n",
       "      <th>notRepairedDamage</th>\n",
       "      <th>postalCode</th>\n",
       "    </tr>\n",
       "  </thead>\n",
       "  <tbody>\n",
       "    <tr>\n",
       "      <th>287835</th>\n",
       "      <td>12345678</td>\n",
       "      <td>test</td>\n",
       "      <td>combi</td>\n",
       "      <td>2001</td>\n",
       "      <td>manually</td>\n",
       "      <td>100.0</td>\n",
       "      <td>150000</td>\n",
       "      <td>petrol</td>\n",
       "      <td>ford</td>\n",
       "      <td>no</td>\n",
       "      <td>17291</td>\n",
       "    </tr>\n",
       "    <tr>\n",
       "      <th>310924</th>\n",
       "      <td>12345678</td>\n",
       "      <td>test</td>\n",
       "      <td>small car</td>\n",
       "      <td>1997</td>\n",
       "      <td>manually</td>\n",
       "      <td>44.0</td>\n",
       "      <td>150000</td>\n",
       "      <td>petrol</td>\n",
       "      <td>volkswagen</td>\n",
       "      <td>NaN</td>\n",
       "      <td>18276</td>\n",
       "    </tr>\n",
       "    <tr>\n",
       "      <th>273145</th>\n",
       "      <td>12345678</td>\n",
       "      <td>control</td>\n",
       "      <td>NaN</td>\n",
       "      <td>2017</td>\n",
       "      <td>NaN</td>\n",
       "      <td>94.0</td>\n",
       "      <td>150000</td>\n",
       "      <td>NaN</td>\n",
       "      <td>fiat</td>\n",
       "      <td>NaN</td>\n",
       "      <td>96110</td>\n",
       "    </tr>\n",
       "    <tr>\n",
       "      <th>358868</th>\n",
       "      <td>10000000</td>\n",
       "      <td>control</td>\n",
       "      <td>combi</td>\n",
       "      <td>2002</td>\n",
       "      <td>manually</td>\n",
       "      <td>0.0</td>\n",
       "      <td>150000</td>\n",
       "      <td>diesel</td>\n",
       "      <td>bmw</td>\n",
       "      <td>no</td>\n",
       "      <td>25821</td>\n",
       "    </tr>\n",
       "    <tr>\n",
       "      <th>77520</th>\n",
       "      <td>99999999</td>\n",
       "      <td>control</td>\n",
       "      <td>NaN</td>\n",
       "      <td>1999</td>\n",
       "      <td>automatic</td>\n",
       "      <td>221.0</td>\n",
       "      <td>150000</td>\n",
       "      <td>petrol</td>\n",
       "      <td>mercedes_benz</td>\n",
       "      <td>NaN</td>\n",
       "      <td>73525</td>\n",
       "    </tr>\n",
       "  </tbody>\n",
       "</table>\n",
       "</div>"
      ],
      "text/plain": [
       "           price   abtest vehicleType  yearOfRegistration    gearbox  powerCV  \\\n",
       "287835  12345678     test       combi                2001   manually    100.0   \n",
       "310924  12345678     test   small car                1997   manually     44.0   \n",
       "273145  12345678  control         NaN                2017        NaN     94.0   \n",
       "358868  10000000  control       combi                2002   manually      0.0   \n",
       "77520   99999999  control         NaN                1999  automatic    221.0   \n",
       "\n",
       "        kilometer fuelType          brand notRepairedDamage  postalCode  \n",
       "287835     150000   petrol           ford                no       17291  \n",
       "310924     150000   petrol     volkswagen               NaN       18276  \n",
       "273145     150000      NaN           fiat               NaN       96110  \n",
       "358868     150000   diesel            bmw                no       25821  \n",
       "77520      150000   petrol  mercedes_benz               NaN       73525  "
      ]
     },
     "execution_count": 54,
     "metadata": {},
     "output_type": "execute_result"
    }
   ],
   "source": [
    "df[df['price'] > umbral_precio_superior].sample(5)"
   ]
  },
  {
   "cell_type": "markdown",
   "metadata": {},
   "source": [
    "Tras revisar los datos, podemos concluir que todos los precios superiores a 4 millones corresponden a registros erróneos."
   ]
  },
  {
   "cell_type": "markdown",
   "metadata": {},
   "source": [
    "Por lo tanto, filtramos los datos por precios de esta forma:"
   ]
  },
  {
   "cell_type": "code",
   "execution_count": 55,
   "metadata": {},
   "outputs": [],
   "source": [
    "filtro_precio = (df['price'] > umbral_precio_inferior) & (df['price'] < umbral_precio_superior)\n",
    "\n",
    "df = df[filtro_precio]"
   ]
  },
  {
   "cell_type": "markdown",
   "metadata": {},
   "source": [
    "### Columna `yearOfRegistration`"
   ]
  },
  {
   "cell_type": "markdown",
   "metadata": {},
   "source": [
    "Tal y como vimos con las columnas de fechas de los anuncios, los registros no pueden ser de después de 2016. Sin embargo, vamos a comprobar las entradas posteriores a este año"
   ]
  },
  {
   "cell_type": "code",
   "execution_count": 59,
   "metadata": {},
   "outputs": [
    {
     "data": {
      "text/plain": [
       "yearOfRegistration\n",
       "2017    9925\n",
       "2018    3797\n",
       "2019      15\n",
       "9999      14\n",
       "5000      14\n",
       "Name: count, dtype: int64"
      ]
     },
     "execution_count": 59,
     "metadata": {},
     "output_type": "execute_result"
    }
   ],
   "source": [
    "df[df['yearOfRegistration'] > 2016]['yearOfRegistration'].value_counts().head()"
   ]
  },
  {
   "cell_type": "markdown",
   "metadata": {},
   "source": [
    "Vemos que hay unas cuantas entradas en 2017 y 2018, por lo que vamos a mantenerlas ya que es posible que las columnas de fechas que habíamos eliminado posiblemente fuesen las que estaban mal.\n",
    "\n",
    "El resto de años son mucho menos frecuentes y la mayoría no tienen sentido por lo que podemos asumir que son errores y eliminarlos o etiquetarlos como nulos."
   ]
  },
  {
   "cell_type": "markdown",
   "metadata": {},
   "source": [
    "Veamos ahora qué ocurre con vehículos con fechas de registro muy antiguas. Por ejemplo, establezcamos el umbral en 1930."
   ]
  },
  {
   "cell_type": "code",
   "execution_count": 62,
   "metadata": {},
   "outputs": [
    {
     "data": {
      "text/plain": [
       "yearOfRegistration\n",
       "1910    36\n",
       "1000    23\n",
       "1929     7\n",
       "1800     4\n",
       "1234     3\n",
       "Name: count, dtype: int64"
      ]
     },
     "execution_count": 62,
     "metadata": {},
     "output_type": "execute_result"
    }
   ],
   "source": [
    "umbral_fecha = 1930\n",
    "\n",
    "df[df['yearOfRegistration'] < umbral_fecha]['yearOfRegistration'].value_counts().head()"
   ]
  },
  {
   "cell_type": "markdown",
   "metadata": {},
   "source": [
    "Vemos que tenemos 36 entradas de 1910, que seguramente sean errores (por la fecha de invención del coche). Veamos la distribución de forma gráfica más detallada."
   ]
  },
  {
   "cell_type": "code",
   "execution_count": 65,
   "metadata": {},
   "outputs": [
    {
     "data": {
      "image/png": "[encoded data removed]",
      "text/plain": [
       "<Figure size 640x480 with 1 Axes>"
      ]
     },
     "metadata": {},
     "output_type": "display_data"
    }
   ],
   "source": [
    "plt.figure()\n",
    "\n",
    "sns.histplot(df['yearOfRegistration'], bins=30)\n",
    "plt.show()"
   ]
  },
  {
   "cell_type": "markdown",
   "metadata": {},
   "source": []
  }
 ],
 "metadata": {
  "kernelspec": {
   "display_name": "main_env",
   "language": "python",
   "name": "python3"
  },
  "language_info": {
   "codemirror_mode": {
    "name": "ipython",
    "version": 3
   },
   "file_extension": ".py",
   "mimetype": "text/x-python",
   "name": "python",
   "nbconvert_exporter": "python",
   "pygments_lexer": "ipython3",
   "version": "3.12.9"
  }
 },
 "nbformat": 4,
 "nbformat_minor": 2
}
